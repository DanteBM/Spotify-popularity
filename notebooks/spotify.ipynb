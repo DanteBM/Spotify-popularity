{
 "cells": [
  {
   "cell_type": "code",
   "execution_count": 1,
   "metadata": {},
   "outputs": [],
   "source": [
    "import pandas as pd\n",
    "import numpy as np\n",
    "\n",
    "from sklearn.model_selection import train_test_split, KFold\n",
    "\n",
    "from sklearn.decomposition import PCA, TruncatedSVD\n",
    "from sklearn.discriminant_analysis import LinearDiscriminantAnalysis\n",
    "from sklearn.metrics import r2_score\n",
    "\n",
    "from sklearn.neighbors import KNeighborsRegressor\n",
    "from sklearn.pipeline import make_pipeline, Pipeline\n",
    "from sklearn.linear_model import LinearRegression\n",
    "from sklearn.preprocessing import PolynomialFeatures\n",
    "from sklearn.ensemble import GradientBoostingRegressor\n",
    "from sklearn.ensemble import RandomForestRegressor\n",
    "from sklearn.tree import DecisionTreeRegressor\n",
    "import lightgbm as lgb #!conda install -c conda-forge lightgbm -y\n",
    "\n",
    "import plotly.graph_objects as go"
   ]
  },
  {
   "cell_type": "code",
   "execution_count": 2,
   "metadata": {},
   "outputs": [],
   "source": [
    "def reducir(X_train, y_train, X_test=None, y_test=None, k=2, metodo=\"\"):\n",
    "    transformadores = {\"pca\":PCA, \"svd\":TruncatedSVD, \"lda\":LinearDiscriminantAnalysis}\n",
    "    metodo = metodo.lower()\n",
    "    if metodo not in transformadores:\n",
    "        raise ValueError(\"Ponle un valor chido al método\")\n",
    "        \n",
    "    transformador = transformadores[metodo](n_components=k)\n",
    "    X_train_r = transformador.fit_transform(X=X_train, y=y_train)\n",
    "    if X_test is not None:\n",
    "        X_test_r = transformador.transform(X_test)\n",
    "        return X_train_r, X_test_r\n",
    "    \n",
    "    return X_train_r"
   ]
  },
  {
   "cell_type": "code",
   "execution_count": 3,
   "metadata": {},
   "outputs": [
    {
     "data": {
      "text/html": [
       "<div>\n",
       "<style scoped>\n",
       "    .dataframe tbody tr th:only-of-type {\n",
       "        vertical-align: middle;\n",
       "    }\n",
       "\n",
       "    .dataframe tbody tr th {\n",
       "        vertical-align: top;\n",
       "    }\n",
       "\n",
       "    .dataframe thead th {\n",
       "        text-align: right;\n",
       "    }\n",
       "</style>\n",
       "<table border=\"1\" class=\"dataframe\">\n",
       "  <thead>\n",
       "    <tr style=\"text-align: right;\">\n",
       "      <th></th>\n",
       "      <th>acousticness</th>\n",
       "      <th>artists</th>\n",
       "      <th>danceability</th>\n",
       "      <th>duration_ms</th>\n",
       "      <th>energy</th>\n",
       "      <th>explicit</th>\n",
       "      <th>id</th>\n",
       "      <th>instrumentalness</th>\n",
       "      <th>key</th>\n",
       "      <th>liveness</th>\n",
       "      <th>loudness</th>\n",
       "      <th>mode</th>\n",
       "      <th>name</th>\n",
       "      <th>popularity</th>\n",
       "      <th>release_date</th>\n",
       "      <th>speechiness</th>\n",
       "      <th>tempo</th>\n",
       "      <th>valence</th>\n",
       "      <th>year</th>\n",
       "    </tr>\n",
       "  </thead>\n",
       "  <tbody>\n",
       "    <tr>\n",
       "      <th>0</th>\n",
       "      <td>0.991000</td>\n",
       "      <td>['Mamie Smith']</td>\n",
       "      <td>0.598</td>\n",
       "      <td>168333</td>\n",
       "      <td>0.224</td>\n",
       "      <td>0</td>\n",
       "      <td>0cS0A1fUEUd1EW3FcF8AEI</td>\n",
       "      <td>0.000522</td>\n",
       "      <td>5</td>\n",
       "      <td>0.3790</td>\n",
       "      <td>-12.628</td>\n",
       "      <td>0</td>\n",
       "      <td>Keep A Song In Your Soul</td>\n",
       "      <td>12</td>\n",
       "      <td>1920</td>\n",
       "      <td>0.0936</td>\n",
       "      <td>149.976</td>\n",
       "      <td>0.6340</td>\n",
       "      <td>1920</td>\n",
       "    </tr>\n",
       "    <tr>\n",
       "      <th>1</th>\n",
       "      <td>0.643000</td>\n",
       "      <td>[\"Screamin' Jay Hawkins\"]</td>\n",
       "      <td>0.852</td>\n",
       "      <td>150200</td>\n",
       "      <td>0.517</td>\n",
       "      <td>0</td>\n",
       "      <td>0hbkKFIJm7Z05H8Zl9w30f</td>\n",
       "      <td>0.026400</td>\n",
       "      <td>5</td>\n",
       "      <td>0.0809</td>\n",
       "      <td>-7.261</td>\n",
       "      <td>0</td>\n",
       "      <td>I Put A Spell On You</td>\n",
       "      <td>7</td>\n",
       "      <td>1920-01-05</td>\n",
       "      <td>0.0534</td>\n",
       "      <td>86.889</td>\n",
       "      <td>0.9500</td>\n",
       "      <td>1920</td>\n",
       "    </tr>\n",
       "    <tr>\n",
       "      <th>2</th>\n",
       "      <td>0.993000</td>\n",
       "      <td>['Mamie Smith']</td>\n",
       "      <td>0.647</td>\n",
       "      <td>163827</td>\n",
       "      <td>0.186</td>\n",
       "      <td>0</td>\n",
       "      <td>11m7laMUgmOKqI3oYzuhne</td>\n",
       "      <td>0.000018</td>\n",
       "      <td>0</td>\n",
       "      <td>0.5190</td>\n",
       "      <td>-12.098</td>\n",
       "      <td>1</td>\n",
       "      <td>Golfing Papa</td>\n",
       "      <td>4</td>\n",
       "      <td>1920</td>\n",
       "      <td>0.1740</td>\n",
       "      <td>97.600</td>\n",
       "      <td>0.6890</td>\n",
       "      <td>1920</td>\n",
       "    </tr>\n",
       "    <tr>\n",
       "      <th>3</th>\n",
       "      <td>0.000173</td>\n",
       "      <td>['Oscar Velazquez']</td>\n",
       "      <td>0.730</td>\n",
       "      <td>422087</td>\n",
       "      <td>0.798</td>\n",
       "      <td>0</td>\n",
       "      <td>19Lc5SfJJ5O1oaxY0fpwfh</td>\n",
       "      <td>0.801000</td>\n",
       "      <td>2</td>\n",
       "      <td>0.1280</td>\n",
       "      <td>-7.311</td>\n",
       "      <td>1</td>\n",
       "      <td>True House Music - Xavier Santos &amp; Carlos Gomi...</td>\n",
       "      <td>17</td>\n",
       "      <td>1920-01-01</td>\n",
       "      <td>0.0425</td>\n",
       "      <td>127.997</td>\n",
       "      <td>0.0422</td>\n",
       "      <td>1920</td>\n",
       "    </tr>\n",
       "    <tr>\n",
       "      <th>4</th>\n",
       "      <td>0.295000</td>\n",
       "      <td>['Mixe']</td>\n",
       "      <td>0.704</td>\n",
       "      <td>165224</td>\n",
       "      <td>0.707</td>\n",
       "      <td>1</td>\n",
       "      <td>2hJjbsLCytGsnAHfdsLejp</td>\n",
       "      <td>0.000246</td>\n",
       "      <td>10</td>\n",
       "      <td>0.4020</td>\n",
       "      <td>-6.036</td>\n",
       "      <td>0</td>\n",
       "      <td>Xuniverxe</td>\n",
       "      <td>2</td>\n",
       "      <td>1920-10-01</td>\n",
       "      <td>0.0768</td>\n",
       "      <td>122.076</td>\n",
       "      <td>0.2990</td>\n",
       "      <td>1920</td>\n",
       "    </tr>\n",
       "  </tbody>\n",
       "</table>\n",
       "</div>"
      ],
      "text/plain": [
       "   acousticness                    artists  danceability  duration_ms  energy  \\\n",
       "0      0.991000            ['Mamie Smith']         0.598       168333   0.224   \n",
       "1      0.643000  [\"Screamin' Jay Hawkins\"]         0.852       150200   0.517   \n",
       "2      0.993000            ['Mamie Smith']         0.647       163827   0.186   \n",
       "3      0.000173        ['Oscar Velazquez']         0.730       422087   0.798   \n",
       "4      0.295000                   ['Mixe']         0.704       165224   0.707   \n",
       "\n",
       "   explicit                      id  instrumentalness  key  liveness  \\\n",
       "0         0  0cS0A1fUEUd1EW3FcF8AEI          0.000522    5    0.3790   \n",
       "1         0  0hbkKFIJm7Z05H8Zl9w30f          0.026400    5    0.0809   \n",
       "2         0  11m7laMUgmOKqI3oYzuhne          0.000018    0    0.5190   \n",
       "3         0  19Lc5SfJJ5O1oaxY0fpwfh          0.801000    2    0.1280   \n",
       "4         1  2hJjbsLCytGsnAHfdsLejp          0.000246   10    0.4020   \n",
       "\n",
       "   loudness  mode                                               name  \\\n",
       "0   -12.628     0                           Keep A Song In Your Soul   \n",
       "1    -7.261     0                               I Put A Spell On You   \n",
       "2   -12.098     1                                       Golfing Papa   \n",
       "3    -7.311     1  True House Music - Xavier Santos & Carlos Gomi...   \n",
       "4    -6.036     0                                          Xuniverxe   \n",
       "\n",
       "   popularity release_date  speechiness    tempo  valence  year  \n",
       "0          12         1920       0.0936  149.976   0.6340  1920  \n",
       "1           7   1920-01-05       0.0534   86.889   0.9500  1920  \n",
       "2           4         1920       0.1740   97.600   0.6890  1920  \n",
       "3          17   1920-01-01       0.0425  127.997   0.0422  1920  \n",
       "4           2   1920-10-01       0.0768  122.076   0.2990  1920  "
      ]
     },
     "execution_count": 3,
     "metadata": {},
     "output_type": "execute_result"
    }
   ],
   "source": [
    "data = pd.read_csv(\"../spotify/data.csv\")\n",
    "data.head()"
   ]
  },
  {
   "cell_type": "code",
   "execution_count": 4,
   "metadata": {},
   "outputs": [],
   "source": [
    "quitar = [\"popularity\", \"artists\", \"id\", \"release_date\", \"name\"]\n",
    "X = data.drop(columns=quitar).values\n",
    "y = data[\"popularity\"].values"
   ]
  },
  {
   "cell_type": "code",
   "execution_count": 5,
   "metadata": {},
   "outputs": [],
   "source": [
    "X_notest, X_test, y_notest, y_test = train_test_split(X, y, test_size=0.25, random_state=3)"
   ]
  },
  {
   "cell_type": "code",
   "execution_count": 16,
   "metadata": {},
   "outputs": [],
   "source": [
    "X_notest_r, X_test_r = reducir(X_notest,y_notest, X_test, y_test, k = 3, metodo=\"pca\")\n",
    "\n",
    "#fig = go.Figure(data = go.Scatter3d(x = X_notest_r[:,0], y = X_notest_r[:,1], z = X_notest_r[:,2], \n",
    "                                     #mode = \"markers\", marker = {\"color\": y_notest, \"size\": 5}))\n",
    "#fig.show()"
   ]
  },
  {
   "cell_type": "code",
   "execution_count": null,
   "metadata": {},
   "outputs": [],
   "source": [
    "X_notest_r, X_test_r = reducir(X_notest,y_notest, X_test, y_test, k = 3, metodo=\"svd\")\n",
    "\n",
    "#fig = go.Figure(data = go.Scatter3d(x = X_notest_r[:,0], y = X_notest_r[:,1], z = X_notest_r[:,2], \n",
    "                                     #mode = \"markers\", marker = {\"color\": y_notest, \"size\": 5}))\n",
    "#fig.show()"
   ]
  },
  {
   "cell_type": "code",
   "execution_count": 17,
   "metadata": {},
   "outputs": [],
   "source": [
    "X_notest_r, X_test_r = reducir(X_notest,y_notest, X_test, y_test, k = 3, metodo=\"lda\")\n",
    "\n",
    "#fig = go.Figure(data = go.Scatter3d(x = X_notest_r[:,0], y = X_notest_r[:,1], z = X_notest_r[:,2], \n",
    "                                     #mode = \"markers\", marker = {\"color\": y_notest, \"size\": 5}))\n",
    "#fig.show()"
   ]
  },
  {
   "cell_type": "code",
   "execution_count": 25,
   "metadata": {},
   "outputs": [],
   "source": [
    "def probar_metodo(estimador, X_notest, y_notest, X_test, y_test, \n",
    "                  k, metodo, r2=False, **estimator_params):\n",
    "    \n",
    "    X_notest_r, X_test_r = reducir(X_notest, y_notest, \n",
    "                                   X_test, y_test, \n",
    "                                   k = k, metodo=metodo)\n",
    "    \n",
    "    kf = KFold(n_splits=4)\n",
    "\n",
    "    scores_fold = []\n",
    "    modelos = []\n",
    "    for train_index, valid_index in kf.split(X_notest_r, y_notest):\n",
    "        X_train, X_valid = X_notest_r[train_index,:], X_notest_r[valid_index,:]\n",
    "        y_train, y_valid = y_notest[train_index], y_notest[valid_index]\n",
    "\n",
    "        modelo = estimador(**estimator_params)\n",
    "        modelo.fit(X_train, y_train)\n",
    "        \n",
    "        modelos.append(modelo)\n",
    "        if r2:\n",
    "            scores_fold.append(r2_score(modelo.predict(X_valid), y_valid))\n",
    "        else:\n",
    "            scores_fold.append(modelo.score(X_valid, y_valid))\n",
    "\n",
    "    nombre_estimador = modelo.__class__.__name__\n",
    "    print(f\"{nombre_estimador} con {metodo}\")\n",
    "    print(f\"R^2: {np.mean(scores_fold)} +- {np.std(scores_fold)}\")\n",
    "    \n",
    "    best_i = np.argmax(scores_fold)\n",
    "    best_model = modelos[best_i]\n",
    "    best_score = scores_fold[best_i]\n",
    "    \n",
    "    print(f\"Test: {best_model.score(X_test_r, y_test)}\")\n",
    "    \n",
    "    return best_model"
   ]
  },
  {
   "cell_type": "markdown",
   "metadata": {},
   "source": [
    "# Regresión lineal"
   ]
  },
  {
   "cell_type": "code",
   "execution_count": 50,
   "metadata": {},
   "outputs": [
    {
     "name": "stdout",
     "output_type": "stream",
     "text": [
      "LinearRegression con pca\n",
      "R^2: 0.26400524845011314 +- 0.0022675107294706184\n",
      "Test: 0.27323753660597505\n",
      "CPU times: user 588 ms, sys: 775 ms, total: 1.36 s\n",
      "Wall time: 202 ms\n"
     ]
    },
    {
     "data": {
      "text/plain": [
       "LinearRegression()"
      ]
     },
     "execution_count": 50,
     "metadata": {},
     "output_type": "execute_result"
    }
   ],
   "source": [
    "%%time\n",
    "probar_metodo(LinearRegression, \n",
    "                   X_notest, y_notest, \n",
    "                   X_test, y_test, \n",
    "                   k = 3, metodo=\"pca\")"
   ]
  },
  {
   "cell_type": "code",
   "execution_count": 51,
   "metadata": {},
   "outputs": [
    {
     "name": "stdout",
     "output_type": "stream",
     "text": [
      "LinearRegression con svd\n",
      "R^2: 0.2619127809634059 +- 0.0023531695773167565\n",
      "Test: 0.2710588571406949\n",
      "CPU times: user 841 ms, sys: 1 s, total: 1.85 s\n",
      "Wall time: 261 ms\n"
     ]
    },
    {
     "data": {
      "text/plain": [
       "LinearRegression()"
      ]
     },
     "execution_count": 51,
     "metadata": {},
     "output_type": "execute_result"
    }
   ],
   "source": [
    "%%time\n",
    "probar_metodo(LinearRegression, \n",
    "                   X_notest, y_notest, \n",
    "                   X_test, y_test, \n",
    "                   k = 3, metodo=\"svd\")"
   ]
  },
  {
   "cell_type": "code",
   "execution_count": 52,
   "metadata": {},
   "outputs": [
    {
     "name": "stdout",
     "output_type": "stream",
     "text": [
      "LinearRegression con lda\n",
      "R^2: 0.36184019708173365 +- 0.004650323828497517\n",
      "Test: 0.36856598690593967\n",
      "CPU times: user 451 ms, sys: 726 ms, total: 1.18 s\n",
      "Wall time: 242 ms\n"
     ]
    },
    {
     "data": {
      "text/plain": [
       "LinearRegression()"
      ]
     },
     "execution_count": 52,
     "metadata": {},
     "output_type": "execute_result"
    }
   ],
   "source": [
    "%%time\n",
    "probar_metodo(LinearRegression, \n",
    "                   X_notest, y_notest, \n",
    "                   X_test, y_test, \n",
    "                   k = 3, metodo=\"lda\")"
   ]
  },
  {
   "cell_type": "markdown",
   "metadata": {},
   "source": [
    "# Polinomial"
   ]
  },
  {
   "cell_type": "code",
   "execution_count": 46,
   "metadata": {},
   "outputs": [],
   "source": [
    "PolinomialRegression = Pipeline\n",
    "pasos = [(\"poly_features\", PolynomialFeatures(degree=3)),\n",
    "         (\"model\", LinearRegression())]"
   ]
  },
  {
   "cell_type": "code",
   "execution_count": 47,
   "metadata": {
    "scrolled": true
   },
   "outputs": [
    {
     "name": "stdout",
     "output_type": "stream",
     "text": [
      "Pipeline con pca\n",
      "R^2: 0.30264679157360064 +- 0.005701685036675731\n",
      "Test: 0.30443021233952106\n",
      "CPU times: user 1.04 s, sys: 1.82 s, total: 2.86 s\n",
      "Wall time: 399 ms\n"
     ]
    },
    {
     "data": {
      "text/plain": [
       "Pipeline(steps=[('poly_features', PolynomialFeatures(degree=3)),\n",
       "                ('model', LinearRegression())])"
      ]
     },
     "execution_count": 47,
     "metadata": {},
     "output_type": "execute_result"
    }
   ],
   "source": [
    "%%time\n",
    "probar_metodo(PolinomialRegression, \n",
    "                   X_notest, y_notest, \n",
    "                   X_test, y_test, \n",
    "                   k = 3, metodo=\"pca\", steps=pasos)"
   ]
  },
  {
   "cell_type": "code",
   "execution_count": 48,
   "metadata": {
    "scrolled": true
   },
   "outputs": [
    {
     "name": "stdout",
     "output_type": "stream",
     "text": [
      "Pipeline con svd\n",
      "R^2: 0.38838779730303263 +- 0.002757045271950412\n",
      "Test: 0.39510297358575686\n",
      "CPU times: user 1.11 s, sys: 1.89 s, total: 3 s\n",
      "Wall time: 404 ms\n"
     ]
    },
    {
     "data": {
      "text/plain": [
       "Pipeline(steps=[('poly_features', PolynomialFeatures(degree=3)),\n",
       "                ('model', LinearRegression())])"
      ]
     },
     "execution_count": 48,
     "metadata": {},
     "output_type": "execute_result"
    }
   ],
   "source": [
    "%%time\n",
    "probar_metodo(PolinomialRegression, \n",
    "                   X_notest, y_notest, \n",
    "                   X_test, y_test, \n",
    "                   k = 3, metodo=\"svd\", steps=pasos)"
   ]
  },
  {
   "cell_type": "code",
   "execution_count": 49,
   "metadata": {},
   "outputs": [
    {
     "name": "stdout",
     "output_type": "stream",
     "text": [
      "Pipeline con lda\n",
      "R^2: 0.4035123350586728 +- 0.002673981948807318\n",
      "Test: 0.406888981705244\n",
      "CPU times: user 859 ms, sys: 1.39 s, total: 2.25 s\n",
      "Wall time: 379 ms\n"
     ]
    },
    {
     "data": {
      "text/plain": [
       "Pipeline(steps=[('poly_features', PolynomialFeatures(degree=3)),\n",
       "                ('model', LinearRegression())])"
      ]
     },
     "execution_count": 49,
     "metadata": {},
     "output_type": "execute_result"
    }
   ],
   "source": [
    "%%time\n",
    "probar_metodo(PolinomialRegression, \n",
    "                   X_notest, y_notest, \n",
    "                   X_test, y_test, \n",
    "                   k = 3, metodo=\"lda\", steps=pasos)"
   ]
  },
  {
   "cell_type": "markdown",
   "metadata": {},
   "source": [
    "# GBT"
   ]
  },
  {
   "cell_type": "code",
   "execution_count": 55,
   "metadata": {},
   "outputs": [
    {
     "name": "stdout",
     "output_type": "stream",
     "text": [
      "GradientBoostingRegressor con pca\n",
      "R^2: 0.46574607587115613 +- 0.0050116511685733235\n",
      "Test: 0.47133351864180784\n",
      "CPU times: user 7.07 s, sys: 1.06 s, total: 8.13 s\n",
      "Wall time: 6.61 s\n"
     ]
    },
    {
     "data": {
      "text/plain": [
       "GradientBoostingRegressor(learning_rate=1.0, max_depth=2, n_estimators=31,\n",
       "                          random_state=42)"
      ]
     },
     "execution_count": 55,
     "metadata": {},
     "output_type": "execute_result"
    }
   ],
   "source": [
    "%%time\n",
    "probar_metodo(GradientBoostingRegressor, X_notest, y_notest, X_test, y_test, \n",
    "                  k=3, metodo=\"pca\", n_estimators=31, learning_rate=1.0, max_depth=2, random_state=42)"
   ]
  },
  {
   "cell_type": "code",
   "execution_count": 56,
   "metadata": {},
   "outputs": [
    {
     "name": "stdout",
     "output_type": "stream",
     "text": [
      "GradientBoostingRegressor con svd\n",
      "R^2: 0.26720199269917 +- 0.0012467928510788513\n",
      "Test: 0.269704911394694\n",
      "CPU times: user 7.5 s, sys: 1.09 s, total: 8.59 s\n",
      "Wall time: 6.87 s\n"
     ]
    },
    {
     "data": {
      "text/plain": [
       "GradientBoostingRegressor(learning_rate=1.0, max_depth=2, n_estimators=31,\n",
       "                          random_state=42)"
      ]
     },
     "execution_count": 56,
     "metadata": {},
     "output_type": "execute_result"
    }
   ],
   "source": [
    "%%time\n",
    "probar_metodo(GradientBoostingRegressor, X_notest, y_notest, X_test, y_test, \n",
    "                  k=3, metodo=\"svd\", n_estimators=31, learning_rate=1.0, max_depth=2, random_state=42)"
   ]
  },
  {
   "cell_type": "code",
   "execution_count": 57,
   "metadata": {},
   "outputs": [
    {
     "name": "stdout",
     "output_type": "stream",
     "text": [
      "GradientBoostingRegressor con lda\n",
      "R^2: 0.4437121746800048 +- 0.005654737367492657\n",
      "Test: 0.4484815864430197\n",
      "CPU times: user 7.1 s, sys: 578 ms, total: 7.68 s\n",
      "Wall time: 6.93 s\n"
     ]
    },
    {
     "data": {
      "text/plain": [
       "GradientBoostingRegressor(learning_rate=1.0, max_depth=2, n_estimators=31,\n",
       "                          random_state=42)"
      ]
     },
     "execution_count": 57,
     "metadata": {},
     "output_type": "execute_result"
    }
   ],
   "source": [
    "%%time\n",
    "probar_metodo(GradientBoostingRegressor, X_notest, y_notest, X_test, y_test, \n",
    "                  k=3, metodo=\"lda\", n_estimators=31, learning_rate=1.0, max_depth=2, random_state=42)"
   ]
  },
  {
   "cell_type": "markdown",
   "metadata": {},
   "source": [
    "# K-nn regressor"
   ]
  },
  {
   "cell_type": "code",
   "execution_count": 14,
   "metadata": {},
   "outputs": [
    {
     "name": "stdout",
     "output_type": "stream",
     "text": [
      "KNeighborsRegressor con pca\n",
      "R^2: 0.27302025968648413 +- 0.0006544103886522212\n",
      "Test: 0.28298053733918804\n",
      "CPU times: user 1.64 s, sys: 1.21 s, total: 2.86 s\n",
      "Wall time: 1.13 s\n"
     ]
    },
    {
     "data": {
      "text/plain": [
       "KNeighborsRegressor(n_neighbors=10)"
      ]
     },
     "execution_count": 14,
     "metadata": {},
     "output_type": "execute_result"
    }
   ],
   "source": [
    "%%time\n",
    "probar_metodo(KNeighborsRegressor, X_notest, y_notest, X_test, y_test, \n",
    "                  k=3, metodo=\"pca\", n_neighbors=10)"
   ]
  },
  {
   "cell_type": "code",
   "execution_count": 15,
   "metadata": {},
   "outputs": [
    {
     "name": "stdout",
     "output_type": "stream",
     "text": [
      "KNeighborsRegressor con svd\n",
      "R^2: 0.27180944722693845 +- 0.0008436563815081078\n",
      "Test: 0.2819018488853876\n",
      "CPU times: user 1.7 s, sys: 1.29 s, total: 2.99 s\n",
      "Wall time: 1.14 s\n"
     ]
    },
    {
     "data": {
      "text/plain": [
       "KNeighborsRegressor(n_neighbors=10)"
      ]
     },
     "execution_count": 15,
     "metadata": {},
     "output_type": "execute_result"
    }
   ],
   "source": [
    "%%time\n",
    "probar_metodo(KNeighborsRegressor, X_notest, y_notest, X_test, y_test, \n",
    "                  k=3, metodo=\"svd\", n_neighbors=10)"
   ]
  },
  {
   "cell_type": "code",
   "execution_count": 16,
   "metadata": {},
   "outputs": [
    {
     "name": "stdout",
     "output_type": "stream",
     "text": [
      "KNeighborsRegressor con lda\n",
      "R^2: 0.44862801122775714 +- 0.003253384235854219\n",
      "Test: 0.4547489278911776\n",
      "CPU times: user 1.32 s, sys: 598 ms, total: 1.92 s\n",
      "Wall time: 1.15 s\n"
     ]
    },
    {
     "data": {
      "text/plain": [
       "KNeighborsRegressor(n_neighbors=10)"
      ]
     },
     "execution_count": 16,
     "metadata": {},
     "output_type": "execute_result"
    }
   ],
   "source": [
    "%%time\n",
    "probar_metodo(KNeighborsRegressor, X_notest, y_notest, X_test, y_test, \n",
    "                  k=3, metodo=\"lda\", n_neighbors=10)"
   ]
  },
  {
   "cell_type": "markdown",
   "metadata": {},
   "source": [
    "# Random Forest"
   ]
  },
  {
   "cell_type": "code",
   "execution_count": 38,
   "metadata": {},
   "outputs": [
    {
     "name": "stdout",
     "output_type": "stream",
     "text": [
      "RandomForestRegressor con pca\n",
      "R^2: 0.5157523493618581 +- 0.0048419038990016846\n",
      "Test: 0.5254741565369527\n",
      "CPU times: user 33.6 s, sys: 1.11 s, total: 34.7 s\n",
      "Wall time: 33.6 s\n"
     ]
    },
    {
     "data": {
      "text/plain": [
       "RandomForestRegressor(n_estimators=31, random_state=0)"
      ]
     },
     "execution_count": 38,
     "metadata": {},
     "output_type": "execute_result"
    }
   ],
   "source": [
    "%%time\n",
    "probar_metodo(RandomForestRegressor,X_notest, y_notest, X_test, y_test,\n",
    "             k=3, metodo= \"pca\", n_estimators = 31, random_state = 0)"
   ]
  },
  {
   "cell_type": "code",
   "execution_count": 39,
   "metadata": {},
   "outputs": [
    {
     "name": "stdout",
     "output_type": "stream",
     "text": [
      "RandomForestRegressor con lda\n",
      "R^2: 0.4640239297740527 +- 0.004150582027362178\n",
      "Test: 0.4730679403231738\n",
      "CPU times: user 34.1 s, sys: 731 ms, total: 34.9 s\n",
      "Wall time: 34.5 s\n"
     ]
    },
    {
     "data": {
      "text/plain": [
       "RandomForestRegressor(n_estimators=31, random_state=0)"
      ]
     },
     "execution_count": 39,
     "metadata": {},
     "output_type": "execute_result"
    }
   ],
   "source": [
    "%%time\n",
    "probar_metodo(RandomForestRegressor,X_notest, y_notest, X_test, y_test,\n",
    "             k=3, metodo= \"lda\", n_estimators = 31, random_state = 0)"
   ]
  },
  {
   "cell_type": "code",
   "execution_count": 37,
   "metadata": {},
   "outputs": [
    {
     "name": "stdout",
     "output_type": "stream",
     "text": [
      "RandomForestRegressor con svd\n",
      "R^2: 0.47305136751529386 +- 0.003636777817901041\n",
      "Test: 0.48029354812160574\n",
      "CPU times: user 38.7 s, sys: 1.57 s, total: 40.2 s\n",
      "Wall time: 38.7 s\n"
     ]
    },
    {
     "data": {
      "text/plain": [
       "RandomForestRegressor(n_estimators=31, random_state=0)"
      ]
     },
     "execution_count": 37,
     "metadata": {},
     "output_type": "execute_result"
    }
   ],
   "source": [
    "%%time\n",
    "probar_metodo(RandomForestRegressor,X_notest, y_notest, X_test, y_test,\n",
    "             k=3, metodo= \"svd\", n_estimators = 31, random_state = 0)"
   ]
  },
  {
   "cell_type": "markdown",
   "metadata": {},
   "source": [
    "# Arbol de decision"
   ]
  },
  {
   "cell_type": "code",
   "execution_count": 34,
   "metadata": {},
   "outputs": [
    {
     "name": "stdout",
     "output_type": "stream",
     "text": [
      "DecisionTreeRegressor con pca\n",
      "R^2: 0.48867798265706364 +- 0.005604125832801798\n",
      "Test: 0.4961624199227388\n",
      "CPU times: user 1.47 s, sys: 1.44 s, total: 2.91 s\n",
      "Wall time: 1.07 s\n"
     ]
    },
    {
     "data": {
      "text/plain": [
       "DecisionTreeRegressor(max_depth=9)"
      ]
     },
     "execution_count": 34,
     "metadata": {},
     "output_type": "execute_result"
    }
   ],
   "source": [
    "%%time\n",
    "probar_metodo(DecisionTreeRegressor,X_notest, y_notest, X_test, y_test,\n",
    "             k=3, metodo= \"pca\", max_depth=9)"
   ]
  },
  {
   "cell_type": "code",
   "execution_count": 35,
   "metadata": {},
   "outputs": [
    {
     "name": "stdout",
     "output_type": "stream",
     "text": [
      "DecisionTreeRegressor con svd\n",
      "R^2: 0.28801769753762985 +- 0.005734186224648218\n",
      "Test: 0.3025459893668959\n",
      "CPU times: user 1.87 s, sys: 1.2 s, total: 3.07 s\n",
      "Wall time: 1.2 s\n"
     ]
    },
    {
     "data": {
      "text/plain": [
       "DecisionTreeRegressor(max_depth=11)"
      ]
     },
     "execution_count": 35,
     "metadata": {},
     "output_type": "execute_result"
    }
   ],
   "source": [
    "%%time\n",
    "probar_metodo(DecisionTreeRegressor,X_notest, y_notest, X_test, y_test,\n",
    "             k=3, metodo= \"svd\", max_depth=11)"
   ]
  },
  {
   "cell_type": "code",
   "execution_count": 36,
   "metadata": {},
   "outputs": [
    {
     "name": "stdout",
     "output_type": "stream",
     "text": [
      "DecisionTreeRegressor con lda\n",
      "R^2: 0.45595283838028355 +- 0.0051475290394939624\n",
      "Test: 0.4637360703618869\n",
      "CPU times: user 1.26 s, sys: 501 ms, total: 1.76 s\n",
      "Wall time: 1.01 s\n"
     ]
    },
    {
     "data": {
      "text/plain": [
       "DecisionTreeRegressor(max_depth=9)"
      ]
     },
     "execution_count": 36,
     "metadata": {},
     "output_type": "execute_result"
    }
   ],
   "source": [
    "%%time\n",
    "probar_metodo(DecisionTreeRegressor,X_notest, y_notest, X_test, y_test,\n",
    "             k=3, metodo= \"lda\", max_depth=9)"
   ]
  },
  {
   "cell_type": "markdown",
   "metadata": {},
   "source": [
    "# LGBM"
   ]
  },
  {
   "cell_type": "code",
   "execution_count": 26,
   "metadata": {},
   "outputs": [
    {
     "name": "stdout",
     "output_type": "stream",
     "text": [
      "LGBMRegressor con pca\n",
      "R^2: 0.4730147704138652 +- 0.006113759900406764\n",
      "Test: 0.036273937399711076\n",
      "CPU times: user 3.98 s, sys: 995 ms, total: 4.98 s\n",
      "Wall time: 681 ms\n"
     ]
    },
    {
     "data": {
      "text/plain": [
       "LGBMRegressor(boosting_type='dart', learning_rate=1.95, n_estimators=31)"
      ]
     },
     "execution_count": 26,
     "metadata": {},
     "output_type": "execute_result"
    }
   ],
   "source": [
    "%%time\n",
    "probar_metodo(lgb.LGBMRegressor, X_notest, y_notest, X_test, y_test, k=3, r2=True, metodo=\"pca\", \n",
    "              boosting_type=\"dart\", n_estimators=31, learning_rate=1.95)"
   ]
  },
  {
   "cell_type": "code",
   "execution_count": 33,
   "metadata": {},
   "outputs": [
    {
     "name": "stdout",
     "output_type": "stream",
     "text": [
      "LGBMRegressor con svd\n",
      "R^2: 0.2013684622820602 +- 0.004891387930848354\n",
      "Test: -6.168702294750761\n",
      "CPU times: user 4.18 s, sys: 1.3 s, total: 5.49 s\n",
      "Wall time: 738 ms\n"
     ]
    },
    {
     "data": {
      "text/plain": [
       "LGBMRegressor(boosting_type='dart', learning_rate=2.15, n_estimators=31)"
      ]
     },
     "execution_count": 33,
     "metadata": {},
     "output_type": "execute_result"
    }
   ],
   "source": [
    "%%time\n",
    "probar_metodo(lgb.LGBMRegressor, X_notest, y_notest, X_test, y_test, k=3, r2=True, metodo=\"svd\", \n",
    "              boosting_type=\"dart\", n_estimators=31, learning_rate=2.15)"
   ]
  },
  {
   "cell_type": "code",
   "execution_count": 28,
   "metadata": {},
   "outputs": [
    {
     "name": "stdout",
     "output_type": "stream",
     "text": [
      "LGBMRegressor con lda\n",
      "R^2: 0.4467073295980709 +- 0.003721549571627958\n",
      "Test: 0.037745985319599495\n",
      "CPU times: user 3.53 s, sys: 354 ms, total: 3.88 s\n",
      "Wall time: 666 ms\n"
     ]
    },
    {
     "data": {
      "text/plain": [
       "LGBMRegressor(boosting_type='dart', learning_rate=1.95, n_estimators=31)"
      ]
     },
     "execution_count": 28,
     "metadata": {},
     "output_type": "execute_result"
    }
   ],
   "source": [
    "%%time\n",
    "probar_metodo(lgb.LGBMRegressor, X_notest, y_notest, X_test, y_test, k=3, r2=True, metodo=\"lda\", \n",
    "              boosting_type=\"dart\", n_estimators=31, learning_rate=1.95)"
   ]
  }
 ],
 "metadata": {
  "kernelspec": {
   "display_name": "Python 3",
   "language": "python",
   "name": "python3"
  },
  "language_info": {
   "codemirror_mode": {
    "name": "ipython",
    "version": 3
   },
   "file_extension": ".py",
   "mimetype": "text/x-python",
   "name": "python",
   "nbconvert_exporter": "python",
   "pygments_lexer": "ipython3",
   "version": "3.9.1"
  }
 },
 "nbformat": 4,
 "nbformat_minor": 4
}

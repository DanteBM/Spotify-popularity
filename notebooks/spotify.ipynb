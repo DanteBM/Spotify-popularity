{
 "cells": [
  {
   "cell_type": "markdown",
   "metadata": {},
   "source": [
    "# Índice\n",
    "\n",
    "* Modelos\n",
    "    * [Regresión lineal](#Regresión-lineal)\n",
    "    * [Regresión polinomial](#Polinomial)\n",
    "    * [K vecinos](#K-nn-regressor)\n",
    "    * [Árboles de decisión](#Árbol-de-decisión)\n",
    "    * [Random forests](#Random-Forest)\n",
    "    * [Gradient Boosting Trees](#GBT)\n",
    "    * [Light Gradient Boosting Machine](#LGBM)\n",
    "    \n",
    "* [Búsqueda de hiperparámetros](#Búsqueda-de-hiperpárametros)"
   ]
  },
  {
   "cell_type": "code",
   "execution_count": 53,
   "metadata": {},
   "outputs": [],
   "source": [
    "# Data science\n",
    "import pandas as pd\n",
    "import numpy as np\n",
    "\n",
    "# División de datos\n",
    "from sklearn.model_selection import train_test_split, KFold\n",
    "\n",
    "from sklearn.preprocessing import StandardScaler # Preprocesamiento\n",
    "\n",
    "# Reducción de dimensionalidad\n",
    "from sklearn.decomposition import PCA, TruncatedSVD\n",
    "from sklearn.discriminant_analysis import LinearDiscriminantAnalysis\n",
    "\n",
    "from sklearn.metrics import r2_score # métrica\n",
    "\n",
    "# Modelos\n",
    "from sklearn.neighbors import KNeighborsRegressor\n",
    "from sklearn.pipeline import make_pipeline, Pipeline\n",
    "from sklearn.linear_model import LinearRegression\n",
    "from sklearn.preprocessing import PolynomialFeatures\n",
    "from sklearn.tree import DecisionTreeRegressor\n",
    "from sklearn.ensemble import GradientBoostingRegressor\n",
    "from sklearn.ensemble import RandomForestRegressor\n",
    "import lightgbm as lgb\n",
    "\n",
    "# Hiperparámetros\n",
    "from sklearn.model_selection import GridSearchCV, RandomizedSearchCV\n",
    "\n",
    "import plotly.graph_objects as go # visualización"
   ]
  },
  {
   "cell_type": "code",
   "execution_count": 4,
   "metadata": {},
   "outputs": [],
   "source": [
    "def reducir(X_train, y_train, X_test=None, y_test=None, k=2, metodo=\"\"):\n",
    "    transformadores = {\"pca\":PCA, \"svd\":TruncatedSVD, \"lda\":LinearDiscriminantAnalysis}\n",
    "    metodo = metodo.lower()\n",
    "    if metodo not in transformadores:\n",
    "        raise ValueError(\"Ponle un valor chido al método\")\n",
    "        \n",
    "    transformador = transformadores[metodo](n_components=k)\n",
    "    X_train_r = transformador.fit_transform(X=X_train, y=y_train)\n",
    "    if X_test is not None:\n",
    "        X_test_r = transformador.transform(X_test)\n",
    "        return X_train_r, X_test_r\n",
    "    \n",
    "    return X_train_r"
   ]
  },
  {
   "cell_type": "code",
   "execution_count": 5,
   "metadata": {},
   "outputs": [
    {
     "data": {
      "text/html": [
       "<div>\n",
       "<style scoped>\n",
       "    .dataframe tbody tr th:only-of-type {\n",
       "        vertical-align: middle;\n",
       "    }\n",
       "\n",
       "    .dataframe tbody tr th {\n",
       "        vertical-align: top;\n",
       "    }\n",
       "\n",
       "    .dataframe thead th {\n",
       "        text-align: right;\n",
       "    }\n",
       "</style>\n",
       "<table border=\"1\" class=\"dataframe\">\n",
       "  <thead>\n",
       "    <tr style=\"text-align: right;\">\n",
       "      <th></th>\n",
       "      <th>acousticness</th>\n",
       "      <th>artists</th>\n",
       "      <th>danceability</th>\n",
       "      <th>duration_ms</th>\n",
       "      <th>energy</th>\n",
       "      <th>explicit</th>\n",
       "      <th>id</th>\n",
       "      <th>instrumentalness</th>\n",
       "      <th>key</th>\n",
       "      <th>liveness</th>\n",
       "      <th>loudness</th>\n",
       "      <th>mode</th>\n",
       "      <th>name</th>\n",
       "      <th>popularity</th>\n",
       "      <th>release_date</th>\n",
       "      <th>speechiness</th>\n",
       "      <th>tempo</th>\n",
       "      <th>valence</th>\n",
       "      <th>year</th>\n",
       "    </tr>\n",
       "  </thead>\n",
       "  <tbody>\n",
       "    <tr>\n",
       "      <th>0</th>\n",
       "      <td>0.991000</td>\n",
       "      <td>['Mamie Smith']</td>\n",
       "      <td>0.598</td>\n",
       "      <td>168333</td>\n",
       "      <td>0.224</td>\n",
       "      <td>0</td>\n",
       "      <td>0cS0A1fUEUd1EW3FcF8AEI</td>\n",
       "      <td>0.000522</td>\n",
       "      <td>5</td>\n",
       "      <td>0.3790</td>\n",
       "      <td>-12.628</td>\n",
       "      <td>0</td>\n",
       "      <td>Keep A Song In Your Soul</td>\n",
       "      <td>12</td>\n",
       "      <td>1920</td>\n",
       "      <td>0.0936</td>\n",
       "      <td>149.976</td>\n",
       "      <td>0.6340</td>\n",
       "      <td>1920</td>\n",
       "    </tr>\n",
       "    <tr>\n",
       "      <th>1</th>\n",
       "      <td>0.643000</td>\n",
       "      <td>[\"Screamin' Jay Hawkins\"]</td>\n",
       "      <td>0.852</td>\n",
       "      <td>150200</td>\n",
       "      <td>0.517</td>\n",
       "      <td>0</td>\n",
       "      <td>0hbkKFIJm7Z05H8Zl9w30f</td>\n",
       "      <td>0.026400</td>\n",
       "      <td>5</td>\n",
       "      <td>0.0809</td>\n",
       "      <td>-7.261</td>\n",
       "      <td>0</td>\n",
       "      <td>I Put A Spell On You</td>\n",
       "      <td>7</td>\n",
       "      <td>1920-01-05</td>\n",
       "      <td>0.0534</td>\n",
       "      <td>86.889</td>\n",
       "      <td>0.9500</td>\n",
       "      <td>1920</td>\n",
       "    </tr>\n",
       "    <tr>\n",
       "      <th>2</th>\n",
       "      <td>0.993000</td>\n",
       "      <td>['Mamie Smith']</td>\n",
       "      <td>0.647</td>\n",
       "      <td>163827</td>\n",
       "      <td>0.186</td>\n",
       "      <td>0</td>\n",
       "      <td>11m7laMUgmOKqI3oYzuhne</td>\n",
       "      <td>0.000018</td>\n",
       "      <td>0</td>\n",
       "      <td>0.5190</td>\n",
       "      <td>-12.098</td>\n",
       "      <td>1</td>\n",
       "      <td>Golfing Papa</td>\n",
       "      <td>4</td>\n",
       "      <td>1920</td>\n",
       "      <td>0.1740</td>\n",
       "      <td>97.600</td>\n",
       "      <td>0.6890</td>\n",
       "      <td>1920</td>\n",
       "    </tr>\n",
       "    <tr>\n",
       "      <th>3</th>\n",
       "      <td>0.000173</td>\n",
       "      <td>['Oscar Velazquez']</td>\n",
       "      <td>0.730</td>\n",
       "      <td>422087</td>\n",
       "      <td>0.798</td>\n",
       "      <td>0</td>\n",
       "      <td>19Lc5SfJJ5O1oaxY0fpwfh</td>\n",
       "      <td>0.801000</td>\n",
       "      <td>2</td>\n",
       "      <td>0.1280</td>\n",
       "      <td>-7.311</td>\n",
       "      <td>1</td>\n",
       "      <td>True House Music - Xavier Santos &amp; Carlos Gomi...</td>\n",
       "      <td>17</td>\n",
       "      <td>1920-01-01</td>\n",
       "      <td>0.0425</td>\n",
       "      <td>127.997</td>\n",
       "      <td>0.0422</td>\n",
       "      <td>1920</td>\n",
       "    </tr>\n",
       "    <tr>\n",
       "      <th>4</th>\n",
       "      <td>0.295000</td>\n",
       "      <td>['Mixe']</td>\n",
       "      <td>0.704</td>\n",
       "      <td>165224</td>\n",
       "      <td>0.707</td>\n",
       "      <td>1</td>\n",
       "      <td>2hJjbsLCytGsnAHfdsLejp</td>\n",
       "      <td>0.000246</td>\n",
       "      <td>10</td>\n",
       "      <td>0.4020</td>\n",
       "      <td>-6.036</td>\n",
       "      <td>0</td>\n",
       "      <td>Xuniverxe</td>\n",
       "      <td>2</td>\n",
       "      <td>1920-10-01</td>\n",
       "      <td>0.0768</td>\n",
       "      <td>122.076</td>\n",
       "      <td>0.2990</td>\n",
       "      <td>1920</td>\n",
       "    </tr>\n",
       "  </tbody>\n",
       "</table>\n",
       "</div>"
      ],
      "text/plain": [
       "   acousticness                    artists  danceability  duration_ms  energy  \\\n",
       "0      0.991000            ['Mamie Smith']         0.598       168333   0.224   \n",
       "1      0.643000  [\"Screamin' Jay Hawkins\"]         0.852       150200   0.517   \n",
       "2      0.993000            ['Mamie Smith']         0.647       163827   0.186   \n",
       "3      0.000173        ['Oscar Velazquez']         0.730       422087   0.798   \n",
       "4      0.295000                   ['Mixe']         0.704       165224   0.707   \n",
       "\n",
       "   explicit                      id  instrumentalness  key  liveness  \\\n",
       "0         0  0cS0A1fUEUd1EW3FcF8AEI          0.000522    5    0.3790   \n",
       "1         0  0hbkKFIJm7Z05H8Zl9w30f          0.026400    5    0.0809   \n",
       "2         0  11m7laMUgmOKqI3oYzuhne          0.000018    0    0.5190   \n",
       "3         0  19Lc5SfJJ5O1oaxY0fpwfh          0.801000    2    0.1280   \n",
       "4         1  2hJjbsLCytGsnAHfdsLejp          0.000246   10    0.4020   \n",
       "\n",
       "   loudness  mode                                               name  \\\n",
       "0   -12.628     0                           Keep A Song In Your Soul   \n",
       "1    -7.261     0                               I Put A Spell On You   \n",
       "2   -12.098     1                                       Golfing Papa   \n",
       "3    -7.311     1  True House Music - Xavier Santos & Carlos Gomi...   \n",
       "4    -6.036     0                                          Xuniverxe   \n",
       "\n",
       "   popularity release_date  speechiness    tempo  valence  year  \n",
       "0          12         1920       0.0936  149.976   0.6340  1920  \n",
       "1           7   1920-01-05       0.0534   86.889   0.9500  1920  \n",
       "2           4         1920       0.1740   97.600   0.6890  1920  \n",
       "3          17   1920-01-01       0.0425  127.997   0.0422  1920  \n",
       "4           2   1920-10-01       0.0768  122.076   0.2990  1920  "
      ]
     },
     "execution_count": 5,
     "metadata": {},
     "output_type": "execute_result"
    }
   ],
   "source": [
    "data = pd.read_csv(\"../spotify/data.csv\")\n",
    "data.head()"
   ]
  },
  {
   "cell_type": "code",
   "execution_count": 6,
   "metadata": {},
   "outputs": [],
   "source": [
    "quitar = [\"popularity\", \"artists\", \"id\", \"release_date\", \"name\"]\n",
    "X = data.drop(columns=quitar).values\n",
    "y = data[\"popularity\"].values"
   ]
  },
  {
   "cell_type": "code",
   "execution_count": 7,
   "metadata": {},
   "outputs": [],
   "source": [
    "X_notest, X_test, y_notest, y_test = train_test_split(X, y, test_size=0.25, random_state=3)"
   ]
  },
  {
   "cell_type": "code",
   "execution_count": 8,
   "metadata": {},
   "outputs": [],
   "source": [
    "sc = StandardScaler()\n",
    "X_notest_st = sc.fit_transform(X_notest)\n",
    "X_test_st = sc.transform(X_test)"
   ]
  },
  {
   "cell_type": "code",
   "execution_count": 9,
   "metadata": {},
   "outputs": [],
   "source": [
    "X_notest_r, X_test_r = reducir(X_notest,y_notest, X_test, y_test, k = 3, metodo=\"pca\")\n",
    "\n",
    "#fig = go.Figure(data = go.Scatter3d(x = X_notest_r[:,0], y = X_notest_r[:,1], z = X_notest_r[:,2], \n",
    "                                     #mode = \"markers\", marker = {\"color\": y_notest, \"size\": 5}))\n",
    "#fig.show()"
   ]
  },
  {
   "cell_type": "code",
   "execution_count": null,
   "metadata": {},
   "outputs": [],
   "source": [
    "X_notest_r, X_test_r = reducir(X_notest,y_notest, X_test, y_test, k = 3, metodo=\"svd\")\n",
    "\n",
    "#fig = go.Figure(data = go.Scatter3d(x = X_notest_r[:,0], y = X_notest_r[:,1], z = X_notest_r[:,2], \n",
    "                                     #mode = \"markers\", marker = {\"color\": y_notest, \"size\": 5}))\n",
    "#fig.show()"
   ]
  },
  {
   "cell_type": "code",
   "execution_count": 17,
   "metadata": {},
   "outputs": [],
   "source": [
    "X_notest_r, X_test_r = reducir(X_notest,y_notest, X_test, y_test, k = 3, metodo=\"lda\")\n",
    "\n",
    "#fig = go.Figure(data = go.Scatter3d(x = X_notest_r[:,0], y = X_notest_r[:,1], z = X_notest_r[:,2], \n",
    "                                     #mode = \"markers\", marker = {\"color\": y_notest, \"size\": 5}))\n",
    "#fig.show()"
   ]
  },
  {
   "cell_type": "code",
   "execution_count": 13,
   "metadata": {},
   "outputs": [],
   "source": [
    "def probar_metodo(estimador, X_notest, y_notest, X_test, y_test, \n",
    "                  k, metodo, **estimator_params):\n",
    "    \n",
    "    X_notest_r, X_test_r = reducir(X_notest, y_notest, \n",
    "                                   X_test, y_test, \n",
    "                                   k = k, metodo=metodo)\n",
    "    \n",
    "    kf = KFold(n_splits=4)\n",
    "\n",
    "    scores_fold = []\n",
    "    modelos = []\n",
    "    for train_index, valid_index in kf.split(X_notest_r, y_notest):\n",
    "        X_train, X_valid = X_notest_r[train_index,:], X_notest_r[valid_index,:]\n",
    "        y_train, y_valid = y_notest[train_index], y_notest[valid_index]\n",
    "\n",
    "        modelo = estimador(**estimator_params)\n",
    "        modelo.fit(X_train, y_train)\n",
    "        \n",
    "        modelos.append(modelo)\n",
    "        y_pred = modelo.predict(X_valid)\n",
    "        scores_fold.append(r2_score(y_valid, y_pred))\n",
    "\n",
    "    nombre_estimador = modelo.__class__.__name__\n",
    "    print(f\"{nombre_estimador} con {metodo}\")\n",
    "    print(f\"R^2: {np.mean(scores_fold)} +- {np.std(scores_fold)}\")\n",
    "    \n",
    "    best_i = np.argmax(scores_fold)\n",
    "    best_model = modelos[best_i]\n",
    "    best_score = scores_fold[best_i]\n",
    "    \n",
    "    print(f\"Test: {best_model.score(X_test_r, y_test)}\")\n",
    "    \n",
    "    return best_model"
   ]
  },
  {
   "cell_type": "markdown",
   "metadata": {},
   "source": [
    "# Regresión lineal\n",
    "## PCA"
   ]
  },
  {
   "cell_type": "code",
   "execution_count": 12,
   "metadata": {},
   "outputs": [
    {
     "name": "stdout",
     "output_type": "stream",
     "text": [
      "LinearRegression con pca\n",
      "R^2: 0.26400524845011314 +- 0.0022675107294706184\n",
      "Test: 0.27323753660597505\n",
      "CPU times: user 2.01 s, sys: 103 ms, total: 2.11 s\n",
      "Wall time: 419 ms\n"
     ]
    },
    {
     "data": {
      "text/plain": [
       "LinearRegression()"
      ]
     },
     "execution_count": 12,
     "metadata": {},
     "output_type": "execute_result"
    }
   ],
   "source": [
    "%%time\n",
    "probar_metodo(LinearRegression, \n",
    "                   X_notest, y_notest, \n",
    "                   X_test, y_test, \n",
    "                   k = 3, metodo=\"pca\")"
   ]
  },
  {
   "cell_type": "code",
   "execution_count": 14,
   "metadata": {},
   "outputs": [
    {
     "name": "stdout",
     "output_type": "stream",
     "text": [
      "LinearRegression con pca\n",
      "R^2: 0.22313326518586798 +- 0.006186290585090704\n",
      "Test: 0.23044244206461162\n",
      "CPU times: user 959 ms, sys: 46.6 ms, total: 1.01 s\n",
      "Wall time: 193 ms\n"
     ]
    },
    {
     "data": {
      "text/plain": [
       "LinearRegression()"
      ]
     },
     "execution_count": 14,
     "metadata": {},
     "output_type": "execute_result"
    }
   ],
   "source": [
    "%%time\n",
    "probar_metodo(LinearRegression, \n",
    "                   X_notest_st, y_notest, \n",
    "                   X_test_st, y_test, \n",
    "                   k = 3, metodo=\"pca\")"
   ]
  },
  {
   "cell_type": "markdown",
   "metadata": {},
   "source": [
    "## SVD"
   ]
  },
  {
   "cell_type": "code",
   "execution_count": 15,
   "metadata": {},
   "outputs": [
    {
     "name": "stdout",
     "output_type": "stream",
     "text": [
      "LinearRegression con svd\n",
      "R^2: 0.26191278096340576 +- 0.0023531695773168606\n",
      "Test: 0.2710588571406948\n",
      "CPU times: user 972 ms, sys: 9.38 ms, total: 981 ms\n",
      "Wall time: 185 ms\n"
     ]
    },
    {
     "data": {
      "text/plain": [
       "LinearRegression()"
      ]
     },
     "execution_count": 15,
     "metadata": {},
     "output_type": "execute_result"
    }
   ],
   "source": [
    "%%time\n",
    "probar_metodo(LinearRegression, \n",
    "                   X_notest, y_notest, \n",
    "                   X_test, y_test, \n",
    "                   k = 3, metodo=\"svd\")"
   ]
  },
  {
   "cell_type": "code",
   "execution_count": 16,
   "metadata": {},
   "outputs": [
    {
     "name": "stdout",
     "output_type": "stream",
     "text": [
      "LinearRegression con svd\n",
      "R^2: 0.22313339184177333 +- 0.0061862478161035335\n",
      "Test: 0.2304424388557481\n",
      "CPU times: user 1.12 s, sys: 31.7 ms, total: 1.15 s\n",
      "Wall time: 245 ms\n"
     ]
    },
    {
     "data": {
      "text/plain": [
       "LinearRegression()"
      ]
     },
     "execution_count": 16,
     "metadata": {},
     "output_type": "execute_result"
    }
   ],
   "source": [
    "%%time\n",
    "probar_metodo(LinearRegression, \n",
    "                   X_notest_st, y_notest, \n",
    "                   X_test_st, y_test, \n",
    "                   k = 3, metodo=\"svd\")"
   ]
  },
  {
   "cell_type": "markdown",
   "metadata": {},
   "source": [
    "## LDA"
   ]
  },
  {
   "cell_type": "code",
   "execution_count": 18,
   "metadata": {},
   "outputs": [
    {
     "name": "stdout",
     "output_type": "stream",
     "text": [
      "LinearRegression con lda\n",
      "R^2: 0.36184019708173365 +- 0.004650323828497517\n",
      "Test: 0.36856598690593967\n",
      "CPU times: user 497 ms, sys: 30.4 ms, total: 527 ms\n",
      "Wall time: 262 ms\n"
     ]
    },
    {
     "data": {
      "text/plain": [
       "LinearRegression()"
      ]
     },
     "execution_count": 18,
     "metadata": {},
     "output_type": "execute_result"
    }
   ],
   "source": [
    "%%time\n",
    "probar_metodo(LinearRegression, \n",
    "                   X_notest, y_notest, \n",
    "                   X_test, y_test, \n",
    "                   k = 3, metodo=\"lda\")"
   ]
  },
  {
   "cell_type": "code",
   "execution_count": 17,
   "metadata": {},
   "outputs": [
    {
     "name": "stdout",
     "output_type": "stream",
     "text": [
      "LinearRegression con lda\n",
      "R^2: 0.3618401970817338 +- 0.004650323828497529\n",
      "Test: 0.3685659869059398\n",
      "CPU times: user 510 ms, sys: 37.5 ms, total: 548 ms\n",
      "Wall time: 317 ms\n"
     ]
    },
    {
     "data": {
      "text/plain": [
       "LinearRegression()"
      ]
     },
     "execution_count": 17,
     "metadata": {},
     "output_type": "execute_result"
    }
   ],
   "source": [
    "%%time\n",
    "probar_metodo(LinearRegression, \n",
    "                   X_notest_st, y_notest, \n",
    "                   X_test_st, y_test, \n",
    "                   k = 3, metodo=\"lda\")"
   ]
  },
  {
   "cell_type": "markdown",
   "metadata": {},
   "source": [
    "En regresión lineal, **estandarizar no ayuda** y el mejor método para reducir es **LDA**"
   ]
  },
  {
   "cell_type": "markdown",
   "metadata": {},
   "source": [
    "# Polinomial"
   ]
  },
  {
   "cell_type": "code",
   "execution_count": 19,
   "metadata": {},
   "outputs": [],
   "source": [
    "PolinomialRegression = Pipeline\n",
    "pasos = [(\"poly_features\", PolynomialFeatures(degree=3)),\n",
    "         (\"model\", LinearRegression())]"
   ]
  },
  {
   "cell_type": "markdown",
   "metadata": {},
   "source": [
    "## PCA"
   ]
  },
  {
   "cell_type": "code",
   "execution_count": 20,
   "metadata": {
    "scrolled": true
   },
   "outputs": [
    {
     "name": "stdout",
     "output_type": "stream",
     "text": [
      "Pipeline con pca\n",
      "R^2: 0.30265248923882637 +- 0.005697674070831135\n",
      "Test: 0.304427521080444\n",
      "CPU times: user 3.13 s, sys: 157 ms, total: 3.29 s\n",
      "Wall time: 675 ms\n"
     ]
    },
    {
     "data": {
      "text/plain": [
       "Pipeline(steps=[('poly_features', PolynomialFeatures(degree=3)),\n",
       "                ('model', LinearRegression())])"
      ]
     },
     "execution_count": 20,
     "metadata": {},
     "output_type": "execute_result"
    }
   ],
   "source": [
    "%%time\n",
    "probar_metodo(PolinomialRegression, \n",
    "                   X_notest, y_notest, \n",
    "                   X_test, y_test, \n",
    "                   k = 3, metodo=\"pca\", steps=pasos)"
   ]
  },
  {
   "cell_type": "code",
   "execution_count": 21,
   "metadata": {},
   "outputs": [
    {
     "name": "stdout",
     "output_type": "stream",
     "text": [
      "Pipeline con pca\n",
      "R^2: 0.3195606322813509 +- 0.005078314090597231\n",
      "Test: 0.3263750614450244\n",
      "CPU times: user 2.34 s, sys: 159 ms, total: 2.5 s\n",
      "Wall time: 452 ms\n"
     ]
    },
    {
     "data": {
      "text/plain": [
       "Pipeline(steps=[('poly_features', PolynomialFeatures(degree=3)),\n",
       "                ('model', LinearRegression())])"
      ]
     },
     "execution_count": 21,
     "metadata": {},
     "output_type": "execute_result"
    }
   ],
   "source": [
    "%%time\n",
    "probar_metodo(PolinomialRegression, \n",
    "                   X_notest_st, y_notest, \n",
    "                   X_test_st, y_test, \n",
    "                   k = 3, metodo=\"pca\", steps=pasos)"
   ]
  },
  {
   "cell_type": "markdown",
   "metadata": {},
   "source": [
    "## SVD"
   ]
  },
  {
   "cell_type": "code",
   "execution_count": 22,
   "metadata": {
    "scrolled": true
   },
   "outputs": [
    {
     "name": "stdout",
     "output_type": "stream",
     "text": [
      "Pipeline con svd\n",
      "R^2: 0.3884589304034293 +- 0.0027566695874204844\n",
      "Test: 0.39515569372805714\n",
      "CPU times: user 2.05 s, sys: 87.3 ms, total: 2.14 s\n",
      "Wall time: 389 ms\n"
     ]
    },
    {
     "data": {
      "text/plain": [
       "Pipeline(steps=[('poly_features', PolynomialFeatures(degree=3)),\n",
       "                ('model', LinearRegression())])"
      ]
     },
     "execution_count": 22,
     "metadata": {},
     "output_type": "execute_result"
    }
   ],
   "source": [
    "%%time\n",
    "probar_metodo(PolinomialRegression, \n",
    "                   X_notest, y_notest, \n",
    "                   X_test, y_test, \n",
    "                   k = 3, metodo=\"svd\", steps=pasos)"
   ]
  },
  {
   "cell_type": "code",
   "execution_count": 23,
   "metadata": {
    "scrolled": true
   },
   "outputs": [
    {
     "name": "stdout",
     "output_type": "stream",
     "text": [
      "Pipeline con svd\n",
      "R^2: 0.31956095443888677 +- 0.005078272803353199\n",
      "Test: 0.3263751059176979\n",
      "CPU times: user 2.19 s, sys: 125 ms, total: 2.32 s\n",
      "Wall time: 419 ms\n"
     ]
    },
    {
     "data": {
      "text/plain": [
       "Pipeline(steps=[('poly_features', PolynomialFeatures(degree=3)),\n",
       "                ('model', LinearRegression())])"
      ]
     },
     "execution_count": 23,
     "metadata": {},
     "output_type": "execute_result"
    }
   ],
   "source": [
    "%%time\n",
    "probar_metodo(PolinomialRegression, \n",
    "                   X_notest_st, y_notest, \n",
    "                   X_test_st, y_test, \n",
    "                   k = 3, metodo=\"svd\", steps=pasos)"
   ]
  },
  {
   "cell_type": "markdown",
   "metadata": {},
   "source": [
    "## Con LDA"
   ]
  },
  {
   "cell_type": "code",
   "execution_count": 24,
   "metadata": {},
   "outputs": [
    {
     "name": "stdout",
     "output_type": "stream",
     "text": [
      "Pipeline con lda\n",
      "R^2: 0.40351233505867296 +- 0.002673981948807353\n",
      "Test: 0.406888981705244\n",
      "CPU times: user 1.61 s, sys: 91.9 ms, total: 1.7 s\n",
      "Wall time: 457 ms\n"
     ]
    },
    {
     "data": {
      "text/plain": [
       "Pipeline(steps=[('poly_features', PolynomialFeatures(degree=3)),\n",
       "                ('model', LinearRegression())])"
      ]
     },
     "execution_count": 24,
     "metadata": {},
     "output_type": "execute_result"
    }
   ],
   "source": [
    "%%time\n",
    "probar_metodo(PolinomialRegression, \n",
    "                   X_notest, y_notest, \n",
    "                   X_test, y_test, \n",
    "                   k = 3, metodo=\"lda\", steps=pasos)"
   ]
  },
  {
   "cell_type": "code",
   "execution_count": 25,
   "metadata": {},
   "outputs": [
    {
     "name": "stdout",
     "output_type": "stream",
     "text": [
      "Pipeline con lda\n",
      "R^2: 0.40351233505867723 +- 0.00267398194880763\n",
      "Test: 0.4068889817052481\n",
      "CPU times: user 1.55 s, sys: 102 ms, total: 1.65 s\n",
      "Wall time: 455 ms\n"
     ]
    },
    {
     "data": {
      "text/plain": [
       "Pipeline(steps=[('poly_features', PolynomialFeatures(degree=3)),\n",
       "                ('model', LinearRegression())])"
      ]
     },
     "execution_count": 25,
     "metadata": {},
     "output_type": "execute_result"
    }
   ],
   "source": [
    "%%time\n",
    "probar_metodo(PolinomialRegression, \n",
    "                   X_notest_st, y_notest, \n",
    "                   X_test_st, y_test, \n",
    "                   k = 3, metodo=\"lda\", steps=pasos)"
   ]
  },
  {
   "cell_type": "markdown",
   "metadata": {},
   "source": [
    "Con polinomios de tercer grado, realmente **estandarizar no ayudó** (solamente un poquito con PCA).\n",
    "\n",
    "El mejor método para reducir fue con **LDA**"
   ]
  },
  {
   "cell_type": "markdown",
   "metadata": {},
   "source": [
    "# K-nn regressor"
   ]
  },
  {
   "cell_type": "markdown",
   "metadata": {},
   "source": [
    "## PCA"
   ]
  },
  {
   "cell_type": "code",
   "execution_count": 33,
   "metadata": {},
   "outputs": [
    {
     "name": "stdout",
     "output_type": "stream",
     "text": [
      "KNeighborsRegressor con pca\n",
      "R^2: 0.27302025968648413 +- 0.0006544103886522212\n",
      "Test: 0.28298048393383923\n",
      "CPU times: user 2.81 s, sys: 104 ms, total: 2.91 s\n",
      "Wall time: 1.24 s\n"
     ]
    },
    {
     "data": {
      "text/plain": [
       "KNeighborsRegressor(n_neighbors=10)"
      ]
     },
     "execution_count": 33,
     "metadata": {},
     "output_type": "execute_result"
    }
   ],
   "source": [
    "%%time\n",
    "probar_metodo(KNeighborsRegressor, X_notest, y_notest, X_test, y_test, \n",
    "                  k=3, metodo=\"pca\", n_neighbors=10)"
   ]
  },
  {
   "cell_type": "code",
   "execution_count": 34,
   "metadata": {},
   "outputs": [
    {
     "name": "stdout",
     "output_type": "stream",
     "text": [
      "KNeighborsRegressor con pca\n",
      "R^2: 0.2901768945633608 +- 0.005119403839980977\n",
      "Test: 0.29626137468963076\n",
      "CPU times: user 2.85 s, sys: 92.9 ms, total: 2.94 s\n",
      "Wall time: 1.27 s\n"
     ]
    },
    {
     "data": {
      "text/plain": [
       "KNeighborsRegressor(n_neighbors=10)"
      ]
     },
     "execution_count": 34,
     "metadata": {},
     "output_type": "execute_result"
    }
   ],
   "source": [
    "%%time\n",
    "probar_metodo(KNeighborsRegressor, X_notest_st, y_notest, X_test_st, y_test, \n",
    "                  k=3, metodo=\"pca\", n_neighbors=10)"
   ]
  },
  {
   "cell_type": "markdown",
   "metadata": {},
   "source": [
    "## SVD"
   ]
  },
  {
   "cell_type": "code",
   "execution_count": 35,
   "metadata": {},
   "outputs": [
    {
     "name": "stdout",
     "output_type": "stream",
     "text": [
      "KNeighborsRegressor con svd\n",
      "R^2: 0.27180944722693845 +- 0.0008436563815081078\n",
      "Test: 0.2819016410375432\n",
      "CPU times: user 2.9 s, sys: 104 ms, total: 3 s\n",
      "Wall time: 1.24 s\n"
     ]
    },
    {
     "data": {
      "text/plain": [
       "KNeighborsRegressor(n_neighbors=10)"
      ]
     },
     "execution_count": 35,
     "metadata": {},
     "output_type": "execute_result"
    }
   ],
   "source": [
    "%%time\n",
    "probar_metodo(KNeighborsRegressor, X_notest, y_notest, X_test, y_test, \n",
    "                  k=3, metodo=\"svd\", n_neighbors=10)"
   ]
  },
  {
   "cell_type": "code",
   "execution_count": 36,
   "metadata": {},
   "outputs": [
    {
     "name": "stdout",
     "output_type": "stream",
     "text": [
      "KNeighborsRegressor con svd\n",
      "R^2: 0.2901744523498199 +- 0.00512357963396762\n",
      "Test: 0.2963000748035337\n",
      "CPU times: user 2.97 s, sys: 79.1 ms, total: 3.05 s\n",
      "Wall time: 1.27 s\n"
     ]
    },
    {
     "data": {
      "text/plain": [
       "KNeighborsRegressor(n_neighbors=10)"
      ]
     },
     "execution_count": 36,
     "metadata": {},
     "output_type": "execute_result"
    }
   ],
   "source": [
    "%%time\n",
    "probar_metodo(KNeighborsRegressor, X_notest_st, y_notest, X_test_st, y_test, \n",
    "                  k=3, metodo=\"svd\", n_neighbors=10)"
   ]
  },
  {
   "cell_type": "markdown",
   "metadata": {},
   "source": [
    "## LDA"
   ]
  },
  {
   "cell_type": "code",
   "execution_count": 40,
   "metadata": {},
   "outputs": [
    {
     "name": "stdout",
     "output_type": "stream",
     "text": [
      "KNeighborsRegressor con lda\n",
      "R^2: 0.448627992670915 +- 0.003253402757407348\n",
      "Test: 0.45474888025937976\n",
      "CPU times: user 2.43 s, sys: 55.4 ms, total: 2.49 s\n",
      "Wall time: 1.37 s\n"
     ]
    },
    {
     "data": {
      "text/plain": [
       "KNeighborsRegressor(n_neighbors=10)"
      ]
     },
     "execution_count": 40,
     "metadata": {},
     "output_type": "execute_result"
    }
   ],
   "source": [
    "%%time\n",
    "probar_metodo(KNeighborsRegressor, X_notest, y_notest, X_test, y_test, \n",
    "                  k=3, metodo=\"lda\", n_neighbors=10)"
   ]
  },
  {
   "cell_type": "code",
   "execution_count": 39,
   "metadata": {},
   "outputs": [
    {
     "name": "stdout",
     "output_type": "stream",
     "text": [
      "KNeighborsRegressor con lda\n",
      "R^2: 0.44862801122775714 +- 0.003253384235854219\n",
      "Test: 0.45474903855090953\n",
      "CPU times: user 2.42 s, sys: 27.6 ms, total: 2.45 s\n",
      "Wall time: 1.36 s\n"
     ]
    },
    {
     "data": {
      "text/plain": [
       "KNeighborsRegressor(n_neighbors=10)"
      ]
     },
     "execution_count": 39,
     "metadata": {},
     "output_type": "execute_result"
    }
   ],
   "source": [
    "%%time\n",
    "probar_metodo(KNeighborsRegressor, X_notest_st, y_notest, X_test_st, y_test, \n",
    "                  k=3, metodo=\"lda\", n_neighbors=10)"
   ]
  },
  {
   "cell_type": "markdown",
   "metadata": {},
   "source": [
    "Con K-vecinos, podemos decir que **estandarizar sí ayudó** ya que tanto en PCA como SVD fue beneficioso (aunque tampoco tanto) y con LDA fue indiferente.\n",
    "\n",
    "La mejor metodología fue **LDA**"
   ]
  },
  {
   "cell_type": "markdown",
   "metadata": {},
   "source": [
    "# Árbol de decisión"
   ]
  },
  {
   "cell_type": "markdown",
   "metadata": {},
   "source": [
    "## PCA"
   ]
  },
  {
   "cell_type": "code",
   "execution_count": 54,
   "metadata": {},
   "outputs": [
    {
     "name": "stdout",
     "output_type": "stream",
     "text": [
      "DecisionTreeRegressor con pca\n",
      "R^2: 0.48854371961611276 +- 0.0056877036938270216\n",
      "Test: 0.49637536806475324\n",
      "CPU times: user 2.61 s, sys: 48 ms, total: 2.66 s\n",
      "Wall time: 1.12 s\n"
     ]
    },
    {
     "data": {
      "text/plain": [
       "DecisionTreeRegressor(max_depth=9)"
      ]
     },
     "execution_count": 54,
     "metadata": {},
     "output_type": "execute_result"
    }
   ],
   "source": [
    "%%time\n",
    "probar_metodo(DecisionTreeRegressor,X_notest, y_notest, X_test, y_test,\n",
    "             k=3, metodo= \"pca\", max_depth=9)"
   ]
  },
  {
   "cell_type": "code",
   "execution_count": 55,
   "metadata": {},
   "outputs": [
    {
     "name": "stdout",
     "output_type": "stream",
     "text": [
      "DecisionTreeRegressor con pca\n",
      "R^2: 0.32579747154623145 +- 0.005211544704981865\n",
      "Test: 0.32957859463819583\n",
      "CPU times: user 2.52 s, sys: 40.1 ms, total: 2.56 s\n",
      "Wall time: 1.08 s\n"
     ]
    },
    {
     "data": {
      "text/plain": [
       "DecisionTreeRegressor(max_depth=9)"
      ]
     },
     "execution_count": 55,
     "metadata": {},
     "output_type": "execute_result"
    }
   ],
   "source": [
    "%%time\n",
    "probar_metodo(DecisionTreeRegressor, X_notest_st, y_notest, X_test_st, y_test,\n",
    "             k=3, metodo= \"pca\", max_depth=9)"
   ]
  },
  {
   "cell_type": "markdown",
   "metadata": {},
   "source": [
    "## SVD"
   ]
  },
  {
   "cell_type": "code",
   "execution_count": 56,
   "metadata": {},
   "outputs": [
    {
     "name": "stdout",
     "output_type": "stream",
     "text": [
      "DecisionTreeRegressor con svd\n",
      "R^2: 0.28791469376081924 +- 0.0058143706664233515\n",
      "Test: 0.3024552275768799\n",
      "CPU times: user 3.01 s, sys: 60.3 ms, total: 3.07 s\n",
      "Wall time: 1.32 s\n"
     ]
    },
    {
     "data": {
      "text/plain": [
       "DecisionTreeRegressor(max_depth=11)"
      ]
     },
     "execution_count": 56,
     "metadata": {},
     "output_type": "execute_result"
    }
   ],
   "source": [
    "%%time\n",
    "probar_metodo(DecisionTreeRegressor, X_notest, y_notest, X_test, y_test,\n",
    "             k=3, metodo= \"svd\", max_depth=11)"
   ]
  },
  {
   "cell_type": "code",
   "execution_count": 57,
   "metadata": {},
   "outputs": [
    {
     "name": "stdout",
     "output_type": "stream",
     "text": [
      "DecisionTreeRegressor con svd\n",
      "R^2: 0.30517617003716296 +- 0.005283825185255884\n",
      "Test: 0.3124643250751904\n",
      "CPU times: user 2.79 s, sys: 32.1 ms, total: 2.82 s\n",
      "Wall time: 1.24 s\n"
     ]
    },
    {
     "data": {
      "text/plain": [
       "DecisionTreeRegressor(max_depth=11)"
      ]
     },
     "execution_count": 57,
     "metadata": {},
     "output_type": "execute_result"
    }
   ],
   "source": [
    "%%time\n",
    "probar_metodo(DecisionTreeRegressor, X_notest_st, y_notest, X_test_st, y_test,\n",
    "             k=3, metodo= \"svd\", max_depth=11)"
   ]
  },
  {
   "cell_type": "markdown",
   "metadata": {},
   "source": [
    "## LDA"
   ]
  },
  {
   "cell_type": "code",
   "execution_count": 58,
   "metadata": {},
   "outputs": [
    {
     "name": "stdout",
     "output_type": "stream",
     "text": [
      "DecisionTreeRegressor con lda\n",
      "R^2: 0.4558690925413009 +- 0.00540611820783944\n",
      "Test: 0.46422079556713847\n",
      "CPU times: user 2.17 s, sys: 28.2 ms, total: 2.2 s\n",
      "Wall time: 1.16 s\n"
     ]
    },
    {
     "data": {
      "text/plain": [
       "DecisionTreeRegressor(max_depth=9)"
      ]
     },
     "execution_count": 58,
     "metadata": {},
     "output_type": "execute_result"
    }
   ],
   "source": [
    "%%time\n",
    "probar_metodo(DecisionTreeRegressor,X_notest, y_notest, X_test, y_test,\n",
    "             k=3, metodo= \"lda\", max_depth=9)"
   ]
  },
  {
   "cell_type": "code",
   "execution_count": 59,
   "metadata": {},
   "outputs": [
    {
     "name": "stdout",
     "output_type": "stream",
     "text": [
      "DecisionTreeRegressor con lda\n",
      "R^2: 0.45600066691733376 +- 0.005197461309903817\n",
      "Test: 0.4637324067629719\n",
      "CPU times: user 2.16 s, sys: 39.6 ms, total: 2.2 s\n",
      "Wall time: 1.12 s\n"
     ]
    },
    {
     "data": {
      "text/plain": [
       "DecisionTreeRegressor(max_depth=9)"
      ]
     },
     "execution_count": 59,
     "metadata": {},
     "output_type": "execute_result"
    }
   ],
   "source": [
    "%%time\n",
    "probar_metodo(DecisionTreeRegressor, X_notest_st, y_notest, X_test_st, y_test,\n",
    "             k=3, metodo= \"lda\", max_depth=9)"
   ]
  },
  {
   "cell_type": "markdown",
   "metadata": {},
   "source": [
    "Para árboles de decisión, en general podemos decir que **estandarizar no ayudó**, ya que en PCA le fue peor, en SVD ayudó tantito y en LDA fue indiferente.\n",
    "\n",
    "La mejor metodología fue **PCA**"
   ]
  },
  {
   "cell_type": "markdown",
   "metadata": {},
   "source": [
    "# Random Forest"
   ]
  },
  {
   "cell_type": "markdown",
   "metadata": {},
   "source": [
    "## PCA"
   ]
  },
  {
   "cell_type": "code",
   "execution_count": 41,
   "metadata": {},
   "outputs": [
    {
     "name": "stdout",
     "output_type": "stream",
     "text": [
      "RandomForestRegressor con pca\n",
      "R^2: 0.5157523493618581 +- 0.0048419038990016846\n",
      "Test: 0.5254741565369527\n",
      "CPU times: user 39 s, sys: 278 ms, total: 39.3 s\n",
      "Wall time: 37.6 s\n"
     ]
    },
    {
     "data": {
      "text/plain": [
       "RandomForestRegressor(n_estimators=31, random_state=0)"
      ]
     },
     "execution_count": 41,
     "metadata": {},
     "output_type": "execute_result"
    }
   ],
   "source": [
    "%%time\n",
    "probar_metodo(RandomForestRegressor, X_notest, y_notest, X_test, y_test,\n",
    "             k=3, metodo= \"pca\", n_estimators = 31, random_state = 0)"
   ]
  },
  {
   "cell_type": "code",
   "execution_count": 42,
   "metadata": {},
   "outputs": [
    {
     "name": "stdout",
     "output_type": "stream",
     "text": [
      "RandomForestRegressor con pca\n",
      "R^2: 0.31153421392488645 +- 0.005354694784241086\n",
      "Test: 0.3173166969861061\n",
      "CPU times: user 40.4 s, sys: 191 ms, total: 40.6 s\n",
      "Wall time: 39.1 s\n"
     ]
    },
    {
     "data": {
      "text/plain": [
       "RandomForestRegressor(n_estimators=31, random_state=0)"
      ]
     },
     "execution_count": 42,
     "metadata": {},
     "output_type": "execute_result"
    }
   ],
   "source": [
    "%%time\n",
    "probar_metodo(RandomForestRegressor, X_notest_st, y_notest, X_test_st, y_test,\n",
    "             k=3, metodo= \"pca\", n_estimators = 31, random_state = 0)"
   ]
  },
  {
   "cell_type": "markdown",
   "metadata": {},
   "source": [
    "## SVD"
   ]
  },
  {
   "cell_type": "code",
   "execution_count": 43,
   "metadata": {
    "scrolled": true
   },
   "outputs": [
    {
     "name": "stdout",
     "output_type": "stream",
     "text": [
      "RandomForestRegressor con svd\n",
      "R^2: 0.47305136751529386 +- 0.003636777817901041\n",
      "Test: 0.48029354812160574\n",
      "CPU times: user 45 s, sys: 123 ms, total: 45.2 s\n",
      "Wall time: 43.6 s\n"
     ]
    },
    {
     "data": {
      "text/plain": [
       "RandomForestRegressor(n_estimators=31, random_state=0)"
      ]
     },
     "execution_count": 43,
     "metadata": {},
     "output_type": "execute_result"
    }
   ],
   "source": [
    "%%time\n",
    "probar_metodo(RandomForestRegressor, X_notest, y_notest, X_test, y_test,\n",
    "             k=3, metodo= \"svd\", n_estimators = 31, random_state = 0)"
   ]
  },
  {
   "cell_type": "code",
   "execution_count": 44,
   "metadata": {
    "scrolled": true
   },
   "outputs": [
    {
     "name": "stdout",
     "output_type": "stream",
     "text": [
      "RandomForestRegressor con svd\n",
      "R^2: 0.31200721152011124 +- 0.005800213946496959\n",
      "Test: 0.31665203037541867\n",
      "CPU times: user 40.6 s, sys: 648 ms, total: 41.3 s\n",
      "Wall time: 39.8 s\n"
     ]
    },
    {
     "data": {
      "text/plain": [
       "RandomForestRegressor(n_estimators=31, random_state=0)"
      ]
     },
     "execution_count": 44,
     "metadata": {},
     "output_type": "execute_result"
    }
   ],
   "source": [
    "%%time\n",
    "probar_metodo(RandomForestRegressor, X_notest_st, y_notest, X_test_st, y_test,\n",
    "             k=3, metodo= \"svd\", n_estimators = 31, random_state = 0)"
   ]
  },
  {
   "cell_type": "markdown",
   "metadata": {},
   "source": [
    "## LDA"
   ]
  },
  {
   "cell_type": "code",
   "execution_count": 45,
   "metadata": {},
   "outputs": [
    {
     "name": "stdout",
     "output_type": "stream",
     "text": [
      "RandomForestRegressor con lda\n",
      "R^2: 0.4640239297740527 +- 0.004150582027362178\n",
      "Test: 0.4730679403231738\n",
      "CPU times: user 39.5 s, sys: 172 ms, total: 39.6 s\n",
      "Wall time: 38.6 s\n"
     ]
    },
    {
     "data": {
      "text/plain": [
       "RandomForestRegressor(n_estimators=31, random_state=0)"
      ]
     },
     "execution_count": 45,
     "metadata": {},
     "output_type": "execute_result"
    }
   ],
   "source": [
    "%%time\n",
    "probar_metodo(RandomForestRegressor, X_notest, y_notest, X_test, y_test,\n",
    "             k=3, metodo= \"lda\", n_estimators = 31, random_state = 0)"
   ]
  },
  {
   "cell_type": "code",
   "execution_count": 46,
   "metadata": {},
   "outputs": [
    {
     "name": "stdout",
     "output_type": "stream",
     "text": [
      "RandomForestRegressor con lda\n",
      "R^2: 0.4640239297740527 +- 0.004150582027362178\n",
      "Test: 0.4730679403231738\n",
      "CPU times: user 39.4 s, sys: 212 ms, total: 39.6 s\n",
      "Wall time: 38.5 s\n"
     ]
    },
    {
     "data": {
      "text/plain": [
       "RandomForestRegressor(n_estimators=31, random_state=0)"
      ]
     },
     "execution_count": 46,
     "metadata": {},
     "output_type": "execute_result"
    }
   ],
   "source": [
    "%%time\n",
    "probar_metodo(RandomForestRegressor, X_notest_st, y_notest, X_test_st, y_test,\n",
    "             k=3, metodo= \"lda\", n_estimators = 31, random_state = 0)"
   ]
  },
  {
   "cell_type": "markdown",
   "metadata": {},
   "source": [
    "Para RandomForest, **estandarizar no fue de ayuda**.\n",
    "\n",
    "El mejor método para reducir fue **PCA**"
   ]
  },
  {
   "cell_type": "markdown",
   "metadata": {},
   "source": [
    "# GBT"
   ]
  },
  {
   "cell_type": "markdown",
   "metadata": {},
   "source": [
    "## PCA"
   ]
  },
  {
   "cell_type": "code",
   "execution_count": 27,
   "metadata": {},
   "outputs": [
    {
     "name": "stdout",
     "output_type": "stream",
     "text": [
      "GradientBoostingRegressor con pca\n",
      "R^2: 0.46574607587115613 +- 0.0050116511685733235\n",
      "Test: 0.47133351864180784\n",
      "CPU times: user 9.27 s, sys: 78.4 ms, total: 9.35 s\n",
      "Wall time: 7.51 s\n"
     ]
    },
    {
     "data": {
      "text/plain": [
       "GradientBoostingRegressor(learning_rate=1.0, max_depth=2, n_estimators=31,\n",
       "                          random_state=42)"
      ]
     },
     "execution_count": 27,
     "metadata": {},
     "output_type": "execute_result"
    }
   ],
   "source": [
    "%%time\n",
    "probar_metodo(GradientBoostingRegressor, X_notest, y_notest, X_test, y_test, \n",
    "                  k=3, metodo=\"pca\", n_estimators=31, learning_rate=1.0, max_depth=2, random_state=42)"
   ]
  },
  {
   "cell_type": "code",
   "execution_count": 26,
   "metadata": {},
   "outputs": [
    {
     "name": "stdout",
     "output_type": "stream",
     "text": [
      "GradientBoostingRegressor con pca\n",
      "R^2: 0.3226376941972746 +- 0.005642548517168225\n",
      "Test: 0.3302961415674527\n",
      "CPU times: user 9.75 s, sys: 252 ms, total: 10 s\n",
      "Wall time: 8.38 s\n"
     ]
    },
    {
     "data": {
      "text/plain": [
       "GradientBoostingRegressor(learning_rate=1.0, max_depth=2, n_estimators=31,\n",
       "                          random_state=42)"
      ]
     },
     "execution_count": 26,
     "metadata": {},
     "output_type": "execute_result"
    }
   ],
   "source": [
    "%%time\n",
    "probar_metodo(GradientBoostingRegressor, X_notest_st, y_notest, X_test_st, y_test, \n",
    "                  k=3, metodo=\"pca\", n_estimators=31, learning_rate=1.0, max_depth=2, random_state=42)"
   ]
  },
  {
   "cell_type": "markdown",
   "metadata": {},
   "source": [
    "## SVD"
   ]
  },
  {
   "cell_type": "code",
   "execution_count": 28,
   "metadata": {},
   "outputs": [
    {
     "name": "stdout",
     "output_type": "stream",
     "text": [
      "GradientBoostingRegressor con svd\n",
      "R^2: 0.26720199269917 +- 0.0012467928510788513\n",
      "Test: 0.269704911394694\n",
      "CPU times: user 9.57 s, sys: 130 ms, total: 9.7 s\n",
      "Wall time: 7.77 s\n"
     ]
    },
    {
     "data": {
      "text/plain": [
       "GradientBoostingRegressor(learning_rate=1.0, max_depth=2, n_estimators=31,\n",
       "                          random_state=42)"
      ]
     },
     "execution_count": 28,
     "metadata": {},
     "output_type": "execute_result"
    }
   ],
   "source": [
    "%%time\n",
    "probar_metodo(GradientBoostingRegressor, X_notest, y_notest, X_test, y_test, \n",
    "                  k=3, metodo=\"svd\", n_estimators=31, learning_rate=1.0, max_depth=2, random_state=42)"
   ]
  },
  {
   "cell_type": "code",
   "execution_count": 29,
   "metadata": {},
   "outputs": [
    {
     "name": "stdout",
     "output_type": "stream",
     "text": [
      "GradientBoostingRegressor con svd\n",
      "R^2: 0.32142688330499064 +- 0.005353303308812006\n",
      "Test: 0.32705014816617517\n",
      "CPU times: user 9.64 s, sys: 78.2 ms, total: 9.72 s\n",
      "Wall time: 7.86 s\n"
     ]
    },
    {
     "data": {
      "text/plain": [
       "GradientBoostingRegressor(learning_rate=1.0, max_depth=2, n_estimators=31,\n",
       "                          random_state=42)"
      ]
     },
     "execution_count": 29,
     "metadata": {},
     "output_type": "execute_result"
    }
   ],
   "source": [
    "%%time\n",
    "probar_metodo(GradientBoostingRegressor, X_notest_st, y_notest, X_test_st, y_test, \n",
    "                  k=3, metodo=\"svd\", n_estimators=31, learning_rate=1.0, max_depth=2, random_state=42)"
   ]
  },
  {
   "cell_type": "markdown",
   "metadata": {},
   "source": [
    "## LDA"
   ]
  },
  {
   "cell_type": "code",
   "execution_count": 30,
   "metadata": {},
   "outputs": [
    {
     "name": "stdout",
     "output_type": "stream",
     "text": [
      "GradientBoostingRegressor con lda\n",
      "R^2: 0.4437121746800048 +- 0.005654737367492657\n",
      "Test: 0.4484815864430197\n",
      "CPU times: user 8.86 s, sys: 18 ms, total: 8.88 s\n",
      "Wall time: 7.77 s\n"
     ]
    },
    {
     "data": {
      "text/plain": [
       "GradientBoostingRegressor(learning_rate=1.0, max_depth=2, n_estimators=31,\n",
       "                          random_state=42)"
      ]
     },
     "execution_count": 30,
     "metadata": {},
     "output_type": "execute_result"
    }
   ],
   "source": [
    "%%time\n",
    "probar_metodo(GradientBoostingRegressor, X_notest, y_notest, X_test, y_test, \n",
    "                  k=3, metodo=\"lda\", n_estimators=31, learning_rate=1.0, max_depth=2, random_state=42)"
   ]
  },
  {
   "cell_type": "code",
   "execution_count": 31,
   "metadata": {},
   "outputs": [
    {
     "name": "stdout",
     "output_type": "stream",
     "text": [
      "GradientBoostingRegressor con lda\n",
      "R^2: 0.4437121746800048 +- 0.005654737367492657\n",
      "Test: 0.4484815864430197\n",
      "CPU times: user 8.84 s, sys: 26.9 ms, total: 8.87 s\n",
      "Wall time: 7.77 s\n"
     ]
    },
    {
     "data": {
      "text/plain": [
       "GradientBoostingRegressor(learning_rate=1.0, max_depth=2, n_estimators=31,\n",
       "                          random_state=42)"
      ]
     },
     "execution_count": 31,
     "metadata": {},
     "output_type": "execute_result"
    }
   ],
   "source": [
    "%%time\n",
    "probar_metodo(GradientBoostingRegressor, X_notest_st, y_notest, X_test_st, y_test, \n",
    "                  k=3, metodo=\"lda\", n_estimators=31, learning_rate=1.0, max_depth=2, random_state=42)"
   ]
  },
  {
   "cell_type": "markdown",
   "metadata": {},
   "source": [
    "Con Gradient Boosting Machine vemos que en PCA empeoró, en SVD sí mejoró y en LDA fue indiferente, por lo que podemos decir que, en general, **estandarizar no ayudó**.\n",
    "\n",
    "Se alcanzó mejores resultados con **PCA**"
   ]
  },
  {
   "cell_type": "markdown",
   "metadata": {},
   "source": [
    "# LGBM"
   ]
  },
  {
   "cell_type": "markdown",
   "metadata": {},
   "source": [
    "## PCA"
   ]
  },
  {
   "cell_type": "code",
   "execution_count": 60,
   "metadata": {},
   "outputs": [
    {
     "name": "stdout",
     "output_type": "stream",
     "text": [
      "LGBMRegressor con pca\n",
      "R^2: 0.047352449577081096 +- 0.019373112925562447\n",
      "Test: 0.050175506844550744\n",
      "CPU times: user 6.31 s, sys: 130 ms, total: 6.44 s\n",
      "Wall time: 1.58 s\n"
     ]
    },
    {
     "data": {
      "text/plain": [
       "LGBMRegressor(boosting_type='dart', learning_rate=1.95, n_estimators=31)"
      ]
     },
     "execution_count": 60,
     "metadata": {},
     "output_type": "execute_result"
    }
   ],
   "source": [
    "%%time\n",
    "probar_metodo(lgb.LGBMRegressor, X_notest, y_notest, X_test, y_test, k=3, metodo=\"pca\", \n",
    "              boosting_type=\"dart\", n_estimators=31, learning_rate=1.95)"
   ]
  },
  {
   "cell_type": "code",
   "execution_count": 62,
   "metadata": {},
   "outputs": [
    {
     "name": "stdout",
     "output_type": "stream",
     "text": [
      "LGBMRegressor con pca\n",
      "R^2: 0.01619542866839549 +- 0.014879683312437799\n",
      "Test: 0.023469882321882962\n",
      "CPU times: user 3.05 s, sys: 16.2 ms, total: 3.07 s\n",
      "Wall time: 544 ms\n"
     ]
    },
    {
     "data": {
      "text/plain": [
       "LGBMRegressor(boosting_type='dart', learning_rate=1.95, n_estimators=31)"
      ]
     },
     "execution_count": 62,
     "metadata": {},
     "output_type": "execute_result"
    }
   ],
   "source": [
    "%%time\n",
    "probar_metodo(lgb.LGBMRegressor, X_notest_st, y_notest, X_test_st, y_test, k=3, metodo=\"pca\", \n",
    "              boosting_type=\"dart\", n_estimators=31, learning_rate=1.95)"
   ]
  },
  {
   "cell_type": "markdown",
   "metadata": {},
   "source": [
    "## SVD"
   ]
  },
  {
   "cell_type": "code",
   "execution_count": 63,
   "metadata": {},
   "outputs": [
    {
     "name": "stdout",
     "output_type": "stream",
     "text": [
      "LGBMRegressor con svd\n",
      "R^2: -6.233646443780534 +- 0.09855816068573812\n",
      "Test: -6.168702294750761\n",
      "CPU times: user 3.1 s, sys: 44.4 ms, total: 3.15 s\n",
      "Wall time: 563 ms\n"
     ]
    },
    {
     "data": {
      "text/plain": [
       "LGBMRegressor(boosting_type='dart', learning_rate=2.15, n_estimators=31)"
      ]
     },
     "execution_count": 63,
     "metadata": {},
     "output_type": "execute_result"
    }
   ],
   "source": [
    "%%time\n",
    "probar_metodo(lgb.LGBMRegressor, X_notest, y_notest, X_test, y_test, k=3, metodo=\"svd\", \n",
    "              boosting_type=\"dart\", n_estimators=31, learning_rate=2.15)"
   ]
  },
  {
   "cell_type": "code",
   "execution_count": 64,
   "metadata": {},
   "outputs": [
    {
     "name": "stdout",
     "output_type": "stream",
     "text": [
      "LGBMRegressor con svd\n",
      "R^2: -8.628945872587654 +- 0.11617841235135916\n",
      "Test: -8.53093353354625\n",
      "CPU times: user 3.11 s, sys: 39.7 ms, total: 3.15 s\n",
      "Wall time: 564 ms\n"
     ]
    },
    {
     "data": {
      "text/plain": [
       "LGBMRegressor(boosting_type='dart', learning_rate=2.15, n_estimators=31)"
      ]
     },
     "execution_count": 64,
     "metadata": {},
     "output_type": "execute_result"
    }
   ],
   "source": [
    "%%time\n",
    "probar_metodo(lgb.LGBMRegressor, X_notest_st, y_notest, X_test_st, y_test, k=3, metodo=\"svd\", \n",
    "              boosting_type=\"dart\", n_estimators=31, learning_rate=2.15)"
   ]
  },
  {
   "cell_type": "markdown",
   "metadata": {},
   "source": [
    "## LDA"
   ]
  },
  {
   "cell_type": "code",
   "execution_count": 65,
   "metadata": {
    "scrolled": true
   },
   "outputs": [
    {
     "name": "stdout",
     "output_type": "stream",
     "text": [
      "LGBMRegressor con lda\n",
      "R^2: 0.02882809643943912 +- 0.0072701717618820485\n",
      "Test: 0.037745985319599495\n",
      "CPU times: user 2.79 s, sys: 28 ms, total: 2.81 s\n",
      "Wall time: 633 ms\n"
     ]
    },
    {
     "data": {
      "text/plain": [
       "LGBMRegressor(boosting_type='dart', learning_rate=1.95, n_estimators=31)"
      ]
     },
     "execution_count": 65,
     "metadata": {},
     "output_type": "execute_result"
    }
   ],
   "source": [
    "%%time\n",
    "probar_metodo(lgb.LGBMRegressor, X_notest, y_notest, X_test, y_test, k=3, metodo=\"lda\", \n",
    "              boosting_type=\"dart\", n_estimators=31, learning_rate=1.95)"
   ]
  },
  {
   "cell_type": "code",
   "execution_count": 66,
   "metadata": {
    "scrolled": true
   },
   "outputs": [
    {
     "name": "stdout",
     "output_type": "stream",
     "text": [
      "LGBMRegressor con lda\n",
      "R^2: 0.02882809643943912 +- 0.0072701717618820485\n",
      "Test: 0.037745985319599495\n",
      "CPU times: user 2.6 s, sys: 15.9 ms, total: 2.62 s\n",
      "Wall time: 582 ms\n"
     ]
    },
    {
     "data": {
      "text/plain": [
       "LGBMRegressor(boosting_type='dart', learning_rate=1.95, n_estimators=31)"
      ]
     },
     "execution_count": 66,
     "metadata": {},
     "output_type": "execute_result"
    }
   ],
   "source": [
    "%%time\n",
    "probar_metodo(lgb.LGBMRegressor, X_notest_st, y_notest, X_test_st, y_test, k=3, metodo=\"lda\", \n",
    "              boosting_type=\"dart\", n_estimators=31, learning_rate=1.95)"
   ]
  },
  {
   "cell_type": "markdown",
   "metadata": {},
   "source": [
    "En LGBM podemos decir que **estandarizar no ayudó**\n",
    "\n",
    "la mejor metodología fue **PCA**\n",
    "\n",
    "Hay algo raro con este modelo, ya que parece ser que si usas su propio score, da otras cosas"
   ]
  },
  {
   "cell_type": "markdown",
   "metadata": {},
   "source": [
    "-------------------\n",
    "\n",
    "En general, creo que estandarizar no resultó útil\n",
    "\n",
    "De 7 modelos, con 4 resultó mejor usar PCA y con los otros 3 usar LDA.\n",
    "\n",
    "\n",
    "---------------"
   ]
  },
  {
   "cell_type": "markdown",
   "metadata": {},
   "source": [
    "# Búsqueda de hiperpárametros"
   ]
  },
  {
   "cell_type": "markdown",
   "metadata": {},
   "source": [
    "## Random Forest"
   ]
  },
  {
   "cell_type": "code",
   "execution_count": 45,
   "metadata": {},
   "outputs": [],
   "source": [
    "params = {\"n_estimators\":[10,20,25,30],\n",
    "          \"max_depth\":[6,9,12,15],\n",
    "          \"min_samples_leaf\":[1,2,4,8], \n",
    "          \"max_features\":[\"auto\", \"sqrt\", \"log2\"],\n",
    "          \"bootstrap\":[True, False],\n",
    "          \"random_state\":[0], \"max_samples\":[0.75]}"
   ]
  },
  {
   "cell_type": "code",
   "execution_count": 46,
   "metadata": {},
   "outputs": [
    {
     "name": "stdout",
     "output_type": "stream",
     "text": [
      "0.532396169615266\n",
      "CPU times: user 7.53 s, sys: 609 ms, total: 8.14 s\n",
      "Wall time: 11min 43s\n"
     ]
    },
    {
     "data": {
      "text/plain": [
       "{'bootstrap': False,\n",
       " 'max_depth': 15,\n",
       " 'max_features': 'sqrt',\n",
       " 'max_samples': 0.75,\n",
       " 'min_samples_leaf': 1,\n",
       " 'n_estimators': 30,\n",
       " 'random_state': 0}"
      ]
     },
     "execution_count": 46,
     "metadata": {},
     "output_type": "execute_result"
    }
   ],
   "source": [
    "%%time\n",
    "grid_rf = GridSearchCV(RandomForestRegressor(), params,\n",
    "                          n_jobs=-1, cv=4, verbose=0)\n",
    "grid_rf.fit(X_notest_r, y_notest)\n",
    "\n",
    "print(grid_rf.best_score_)\n",
    "grid_rf.best_params_"
   ]
  },
  {
   "cell_type": "markdown",
   "metadata": {},
   "source": [
    "## Gradient Boosting Machine"
   ]
  },
  {
   "cell_type": "code",
   "execution_count": 56,
   "metadata": {},
   "outputs": [],
   "source": [
    "params = {\"loss\":[\"ls\", \"lad\", \"huber\"],\n",
    "          \"learning_rate\":[0.1, 0.01],\n",
    "          \"n_estimators\":[25,50,100,150],\n",
    "          \"subsample\":[1.0, 0.75],\n",
    "          \"min_samples_leaf\":[2,4,8]}"
   ]
  },
  {
   "cell_type": "code",
   "execution_count": 57,
   "metadata": {
    "scrolled": false
   },
   "outputs": [
    {
     "name": "stdout",
     "output_type": "stream",
     "text": [
      "0.503651768367076\n",
      "CPU times: user 13.5 s, sys: 182 ms, total: 13.7 s\n",
      "Wall time: 12min 1s\n"
     ]
    },
    {
     "data": {
      "text/plain": [
       "{'learning_rate': 0.1,\n",
       " 'loss': 'ls',\n",
       " 'min_samples_leaf': 2,\n",
       " 'n_estimators': 150,\n",
       " 'subsample': 0.75}"
      ]
     },
     "execution_count": 57,
     "metadata": {},
     "output_type": "execute_result"
    }
   ],
   "source": [
    "%%time\n",
    "grid_gbm = GridSearchCV(GradientBoostingRegressor(random_state=3,\n",
    "                                              n_iter_no_change=10), \n",
    "                    params, n_jobs=-1, cv=4, verbose=0)\n",
    "grid_gbm.fit(X_notest_r, y_notest)\n",
    "\n",
    "print(grid_gbm.best_score_)\n",
    "grid_gbm.best_params_"
   ]
  },
  {
   "cell_type": "code",
   "execution_count": null,
   "metadata": {},
   "outputs": [],
   "source": []
  }
 ],
 "metadata": {
  "kernelspec": {
   "display_name": "Python 3",
   "language": "python",
   "name": "python3"
  },
  "language_info": {
   "codemirror_mode": {
    "name": "ipython",
    "version": 3
   },
   "file_extension": ".py",
   "mimetype": "text/x-python",
   "name": "python",
   "nbconvert_exporter": "python",
   "pygments_lexer": "ipython3",
   "version": "3.8.5"
  }
 },
 "nbformat": 4,
 "nbformat_minor": 4
}
